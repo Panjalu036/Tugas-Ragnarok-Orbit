{
 "cells": [
  {
   "cell_type": "markdown",
   "id": "7174bdfc",
   "metadata": {},
   "source": [
    "## FGD Rabu Sesi Pagi"
   ]
  },
  {
   "cell_type": "markdown",
   "id": "a12c1e89",
   "metadata": {},
   "source": [
    "## 02 - Maret - 2022"
   ]
  },
  {
   "cell_type": "markdown",
   "id": "15ac0c4f",
   "metadata": {},
   "source": [
    "### No.1 \n",
    "Berikut ini adalah tiga variabel yang menyimpan value dengan tipe boolean. Dengan menggunakan variabel tersebut, cobalah untuk mengerjakan soal 1 - 5 ! (Akan lebih seru jika kamu menebak terlebih dahulu hasilnya, kemudian baru implementasikan ke dalam kode program. Jika terdapat error, cobalah untuk menyelesaikannya sendiri terlebih dahulu)."
   ]
  },
  {
   "cell_type": "markdown",
   "id": "26787449",
   "metadata": {},
   "source": [
    "### Dengan Variabel\n",
    "a = False  \n",
    "b = True  \n",
    "c = False  \n"
   ]
  },
  {
   "cell_type": "markdown",
   "id": "6d051743",
   "metadata": {},
   "source": [
    "### Yang harus di coba\n",
    "1. b and c\n",
    "2. b or c\n",
    "3. not a and b\n",
    "4. (a and b) or not c\n",
    "5. not b and not (a or c\n"
   ]
  },
  {
   "cell_type": "markdown",
   "id": "a4881239",
   "metadata": {},
   "source": [
    "###  Jawaban No 1\n",
    "1. False\n",
    "2. True\n",
    "3. True\n",
    "4. True\n",
    "5. False"
   ]
  },
  {
   "cell_type": "markdown",
   "id": "812b940c",
   "metadata": {},
   "source": [
    "###  No. 2\n",
    "Di bawah ini terdapat potongan kode program yang masih terdapat error (bug). Selesaikan permasalahan bug tersebut menggunakan pemahaman yang sudah dipelajari!"
   ]
  },
  {
   "cell_type": "code",
   "execution_count": null,
   "id": "11c0271f",
   "metadata": {},
   "outputs": [],
   "source": [
    "print(\"Hello!\")\n",
    "something = input(\"Entered Something : \")\n",
    "print(\"You entered : \", something)"
   ]
  },
  {
   "cell_type": "markdown",
   "id": "72780ce5",
   "metadata": {},
   "source": [
    "### No. 3\n",
    "Lakukan hal yang sama seperti pada soal nomor 2!"
   ]
  },
  {
   "cell_type": "code",
   "execution_count": null,
   "id": "6a570657",
   "metadata": {},
   "outputs": [],
   "source": [
    "print(\"Hello!\")\n",
    "something = input(\"Entered something : \")\n",
    "if (something == \"hello\"):\n",
    "    print(\"Hello for you too!\")\n",
    "elif(something == \"hi\"):\n",
    "    print(\"Hi There !\")\n",
    "else :\n",
    "    print(\"I don't know \", something ,\"means ?\")"
   ]
  },
  {
   "cell_type": "markdown",
   "id": "abed4e7e",
   "metadata": {},
   "source": [
    "### No. 4\n",
    "Buatlah program yang dapat mencetak kata halo dan hai sebanyak 100 kali. contoh: halo hai halo hai … 98x !. Pastikan terdapat spasi di antara setiap perulangan kata!"
   ]
  },
  {
   "cell_type": "code",
   "execution_count": null,
   "id": "3cc99ce7",
   "metadata": {},
   "outputs": [],
   "source": [
    "Iterasi = 0\n",
    "\n",
    "while Iterasi <= 99:\n",
    "    print (\"Halo hai\")\n",
    "    Iterasi += 1"
   ]
  },
  {
   "cell_type": "markdown",
   "id": "61412525",
   "metadata": {},
   "source": [
    "### No. 5\n",
    "Buatlah game suit batu-gunting-kertas sederhana. Di dalam program tersebut terdapat dua orang pemain yang dapat memilih batu/gunting/kertas menggunakan input dari pengguna. Untuk mempermudah penggambaran aturan pemenang dalam game, lengkapilah tabel kemenangan dengan menggunakan semua kemungkinan yang tersedia."
   ]
  },
  {
   "cell_type": "code",
   "execution_count": null,
   "id": "fc816feb",
   "metadata": {},
   "outputs": [],
   "source": [
    "Player1 = input(\"Player1 memasukkan Pilihan : \")\n",
    "Player2 = input(\"Player2 memasukkan Pilihan : \")\n",
    "\n",
    "if (Player1 ==\"gunting\" and Player2 ==\"gunting\"):\n",
    "    print(\"seri\")\n",
    "elif(Player1 ==\"gunting\" and Player2 ==\"kertas\"):\n",
    "    print(\"Player 1 Menang\")\n",
    "elif(Player1 ==\"gunting\" and Player2 ==\"batu\"):\n",
    "    print(\"Player 2 Menang\")\n",
    "elif(Player1 ==\"kertas\" and Player2 ==\"kertas\"):\n",
    "    print(\"seri\")\n",
    "elif(Player1 ==\"kertas\" and Player2 ==\"batu\"):\n",
    "    print(\"Player 1 Menang\")\n",
    "elif(Player1 ==\"kertas\" and Player2 ==\"gunting\"):\n",
    "    print(\"Player 2 Menang\")\n",
    "elif(Player1 ==\"batu\" and Player2 ==\"batu\"):\n",
    "    print(\"seri\")\n",
    "elif(Player1 ==\"batu\" and Player2 ==\"gunting\"):\n",
    "    print(\"Player 1 Menang\")\n",
    "elif(Player1 ==\"batu\" and Player2 ==\"kertas\"):\n",
    "    print(\"Player 2 Menang\")\n",
    "else :\n",
    "    print(\"Input tidak valid :(\")"
   ]
  },
  {
   "cell_type": "markdown",
   "id": "cd844b9f",
   "metadata": {},
   "source": [
    "### No. 6\n",
    "Buatlah program sederhana yang menerima input secara terus menerus, akan tetapi ketika input berupa string “berhenti”, maka program tersebut akan berhenti berjalan!"
   ]
  },
  {
   "cell_type": "code",
   "execution_count": null,
   "id": "9c8310dc",
   "metadata": {},
   "outputs": [],
   "source": [
    "kata = str\n",
    "while kata != 'berhenti':\n",
    "    kata = input(\"Masukan kata : \")\n",
    "    if kata != 'berhenti':\n",
    "        print(kata)\n",
    "    else:\n",
    "        print(\"Program telah berhenti !\")\n",
    "        \n",
    "    "
   ]
  },
  {
   "cell_type": "markdown",
   "id": "0365d021",
   "metadata": {},
   "source": [
    "### No. 7\n",
    "Dengan menggunakan konsep yang sama pada soal nomor 6, buatlah program yang dapat menampilkan menu makanan atau tertentu (minimal 3 menu). Pengguna dapat memilih salah satu dari menu yang disediakan dan menampilkan kembali menu yang dipesan beserta harganya. Program akan berhenti berjalan apabila input dari pengguna berupa string “cukup”.\n"
   ]
  },
  {
   "cell_type": "code",
   "execution_count": null,
   "id": "71159db6",
   "metadata": {},
   "outputs": [],
   "source": [
    "pengulangan = \"lanjut\"\n",
    "while pengulangan == \"lanjut\" :\n",
    "    print ('''\n",
    "           1. Donat  : Rp. 2000\n",
    "           2. Bakwan : Rp. 1500\n",
    "           3. Lemper : Rp. 1000\n",
    "           ''')\n",
    "    pesanan = str(input('Pilih menu makanan : ' ))\n",
    "    if pesanan == '1':\n",
    "        print('Anda telah memesan Donat seharga Rp.2000')\n",
    "    elif pesanan == '2':\n",
    "        print('Anda telah memesan Bakwan seharga Rp.1500')\n",
    "    elif pesanan == '3':\n",
    "        print ('Anda telah memesan Lempercseharga Rp.1000')\n",
    "    else :\n",
    "        print(\"Anda salah memasukkan tombol menu makanan\")\n",
    "        break\n",
    "        \n",
    "    pengulangan = input(\"Apakah anda ingin menambah pesanan (lanjut/cukup) : \")\n",
    "   "
   ]
  },
  {
   "cell_type": "markdown",
   "id": "ddd4138f",
   "metadata": {},
   "source": [
    "###  No. 8\n",
    "Buat program pada nomor 7 menjadi sedikit lebih kompleks dengan studi kasus tambahan apabila pengguna ingin membeli 10 Bakwan!"
   ]
  },
  {
   "cell_type": "code",
   "execution_count": null,
   "id": "354a1c71",
   "metadata": {},
   "outputs": [],
   "source": [
    "pengulangan = \"lanjut\"\n",
    "while pengulangan == \"lanjut\" :\n",
    "    print ('''\n",
    "           1. Donat  : Rp. 2000\n",
    "           2. Bakwan : Rp. 1500\n",
    "           3. Lemper : Rp. 1000\n",
    "           ''')\n",
    "    pesanan = str(input('Pilih menu makanan : ' ))\n",
    "    if pesanan == '1':\n",
    "        nama = 'Donat'\n",
    "        harga = 2000\n",
    "        jumlah = int(input(\"\\nJumlah yang akan dipesan\"))\n",
    "        total = (harga*jumlah)\n",
    "        print('\\nAnda telah memesan',nama,'dengan harga Rp.',harga,'/pcs')\n",
    "        print('Anda memesan',jumlah,' jadi total harga menjadi Rp.',total)\n",
    "    elif pesanan == '2':\n",
    "        nama = 'Bakwan'\n",
    "        harga = 1500\n",
    "        jumlah = int(input(\"\\nJumlah yang akan dipesan\"))\n",
    "        total = (harga*jumlah)\n",
    "        print('\\nAnda telah memesan',nama,'dengan harga Rp.',harga,'/pcs')\n",
    "        print('Anda memesan',jumlah,' jadi total harga menjadi Rp.',total)\n",
    "    elif pesanan == '3':\n",
    "        print ('Anda telah memesan Lempercseharga Rp.1000')\n",
    "        nama = 'Lemper'\n",
    "        harga = 1000\n",
    "        jumlah = int(input(\"\\nJumlah yang akan dipesan\"))\n",
    "        total = (harga*jumlah)\n",
    "        print('\\nAnda telah memesan',nama,'dengan harga Rp.',harga,'/pcs')\n",
    "        print('Anda memesan',jumlah,' jadi total harga menjadi Rp.',total)\n",
    "    else :\n",
    "        print(\"\\nAnda salah memasukkan tombol menu makanan\")\n",
    "        continue\n",
    "        \n",
    "    pengulangan = input(\"Apakah anda ingin menambah pesanan (lanjut/cukup) : \")\n",
    "else :\n",
    "    print('\\nTerimakasih telah memesan')\n",
    "   "
   ]
  },
  {
   "cell_type": "code",
   "execution_count": null,
   "id": "7058afb2",
   "metadata": {},
   "outputs": [],
   "source": []
  }
 ],
 "metadata": {
  "kernelspec": {
   "display_name": "Python 3 (ipykernel)",
   "language": "python",
   "name": "python3"
  },
  "language_info": {
   "codemirror_mode": {
    "name": "ipython",
    "version": 3
   },
   "file_extension": ".py",
   "mimetype": "text/x-python",
   "name": "python",
   "nbconvert_exporter": "python",
   "pygments_lexer": "ipython3",
   "version": "3.9.7"
  }
 },
 "nbformat": 4,
 "nbformat_minor": 5
}
