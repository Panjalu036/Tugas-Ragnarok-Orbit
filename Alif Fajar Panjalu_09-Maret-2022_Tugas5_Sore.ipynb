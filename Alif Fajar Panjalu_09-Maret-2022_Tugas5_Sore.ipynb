{
 "cells": [
  {
   "cell_type": "markdown",
   "id": "98e12933",
   "metadata": {},
   "source": [
    "# FGD Rabu Sore "
   ]
  },
  {
   "cell_type": "markdown",
   "id": "794fadaf",
   "metadata": {},
   "source": [
    "## 09-Maret-2022"
   ]
  },
  {
   "cell_type": "markdown",
   "id": "7212c5d4",
   "metadata": {},
   "source": [
    "##  Module 2: Data Analytics with Python - Statistics"
   ]
  },
  {
   "cell_type": "markdown",
   "id": "9d2eeb89",
   "metadata": {},
   "source": [
    "## Lab 1: Basic statistics & Linear Algebra"
   ]
  },
  {
   "cell_type": "markdown",
   "id": "0ba56949",
   "metadata": {},
   "source": [
    "<br> <br>\n",
    "## About Libraries for Statistics\n"
   ]
  },
  {
   "cell_type": "markdown",
   "id": "e446a761",
   "metadata": {},
   "source": [
    "## Numpy\n",
    "\n",
    "NumPy adalah kependekan dari \"Python Numerik\". Ini digunakan untuk bekerja dengan array. Dalam Python kami memiliki daftar yang melayani tujuan array, tetapi mereka lambat untuk diproses. NumPy bertujuan untuk menyediakan objek array yang dua kali lebih cepat daripada daftar Python tradisional\n"
   ]
  },
  {
   "cell_type": "markdown",
   "id": "cb4c6c47",
   "metadata": {},
   "source": [
    "## Scipy\n",
    "\n",
    "SciPy adalah pustaka Python sumber terbuka dan gratis yang digunakan untuk komputasi ilmiah dan komputasi teknis. SciPy berisi modul untuk optimasi, aljabar linier, integrasi, interpolasi, fungsi khusus, FFT, pemrosesan sinyal dan gambar, pemecah ODE, dan tugas lain yang umum dalam sains dan teknik."
   ]
  },
  {
   "cell_type": "code",
   "execution_count": 1,
   "id": "98ba6fc7",
   "metadata": {},
   "outputs": [
    {
     "name": "stdout",
     "output_type": "stream",
     "text": [
      "Requirement already satisfied: numpy in c:\\users\\asus\\anaconda3\\lib\\site-packages (1.22.3)\n",
      "Requirement already satisfied: scipy in c:\\users\\asus\\anaconda3\\lib\\site-packages (1.7.1)\n",
      "Requirement already satisfied: numpy<1.23.0,>=1.16.5 in c:\\users\\asus\\anaconda3\\lib\\site-packages (from scipy) (1.22.3)\n"
     ]
    }
   ],
   "source": [
    "import sys\n",
    "\n",
    "# menjalankan peintah ini untuk instal numpy\n",
    "!{sys.executable} -m pip install numpy\n",
    "# menjalankan peintah ini untuk instal scipy\n",
    "!{sys.executable} -m pip install scipy"
   ]
  },
  {
   "cell_type": "code",
   "execution_count": 21,
   "id": "1d82a766",
   "metadata": {},
   "outputs": [],
   "source": [
    "import sys\n",
    "import scipy"
   ]
  },
  {
   "cell_type": "markdown",
   "id": "a672d546",
   "metadata": {},
   "source": [
    "## Objevtive\n",
    "***\n",
    "- **Measures of Central Tendency**\n",
    "     - Mean\n",
    "     - Median\n",
    "     - Mode\n",
    "\n",
    "- **Measures Of Spread**\n",
    "\n",
    "     - Range\n",
    "     - Quartiles and Interquartile range\n",
    "     - Percentile\n",
    "     - Variance\n",
    "     - Standard deviation\n",
    "\n",
    "\n",
    "- **Correlation v/s Causation**\n",
    "- **Kurtosis**\n",
    "- **Skewness**\n",
    "- **Eigen Vectors**"
   ]
  },
  {
   "cell_type": "code",
   "execution_count": 44,
   "id": "bcc45948",
   "metadata": {},
   "outputs": [],
   "source": [
    "import numpy as np\n",
    "\n",
    "x = np.array([[1,2,3,2,7,3,5,8,8,5,6,2,4,8]])"
   ]
  },
  {
   "cell_type": "markdown",
   "id": "72e1ac42",
   "metadata": {},
   "source": [
    "## Measures of Central Tendency\n",
    "The measure of central tendency is the commonly used method to identify the centre of the data set. Used to describe a data set by identifying the central position within that data set.\n",
    "\n",
    "Mean, Median and Mode"
   ]
  },
  {
   "cell_type": "markdown",
   "id": "7dae3f83",
   "metadata": {},
   "source": [
    "## Mean"
   ]
  },
  {
   "cell_type": "code",
   "execution_count": 45,
   "id": "cc54cd58",
   "metadata": {},
   "outputs": [
    {
     "name": "stdout",
     "output_type": "stream",
     "text": [
      "Data : [[1 2 3 2 7 3 5 8 8 5 6 2 4 8]]\n",
      "Nilai mean nya adalah :  4.571428571428571\n"
     ]
    }
   ],
   "source": [
    "print (\"Data :\",x)\n",
    "print (\"Nilai mean nya adalah : \",np.mean(x))"
   ]
  },
  {
   "cell_type": "markdown",
   "id": "dc6f2096",
   "metadata": {},
   "source": [
    "## Median"
   ]
  },
  {
   "cell_type": "code",
   "execution_count": 46,
   "id": "3782d6bd",
   "metadata": {},
   "outputs": [
    {
     "name": "stdout",
     "output_type": "stream",
     "text": [
      "Data :  [[1 2 3 2 7 3 5 8 8 5 6 2 4 8]]\n",
      "Nilai Median nya adalah :  4.5\n"
     ]
    }
   ],
   "source": [
    "print (\"Data : \",x)\n",
    "print (\"Nilai Median nya adalah : \",np.median(x))"
   ]
  },
  {
   "cell_type": "markdown",
   "id": "152445ef",
   "metadata": {},
   "source": [
    "## Modus"
   ]
  },
  {
   "cell_type": "markdown",
   "id": "70fc4f7f",
   "metadata": {},
   "source": [
    "\n",
    "Menentukan Bilangan yang unik"
   ]
  },
  {
   "cell_type": "code",
   "execution_count": 47,
   "id": "96466ea8",
   "metadata": {},
   "outputs": [
    {
     "name": "stdout",
     "output_type": "stream",
     "text": [
      "Data :  [[1 2 3 2 7 3 5 8 8 5 6 2 4 8]]\n",
      "(array([1, 2, 3, 4, 5, 6, 7, 8]), array([1, 3, 2, 1, 2, 1, 1, 3], dtype=int64))\n"
     ]
    }
   ],
   "source": [
    "#Menentukan bilangan unik (Menghilangkan data yang sama)\n",
    "print (\"Data : \",x)\n",
    "print(np.unique(x,return_counts=True))"
   ]
  },
  {
   "cell_type": "code",
   "execution_count": 48,
   "id": "c4513bde",
   "metadata": {},
   "outputs": [
    {
     "name": "stdout",
     "output_type": "stream",
     "text": [
      "Data : \n",
      "[1 2 3 4 5 6 7 8]\n",
      "bilangan yang unik\n",
      "[1 3 2 1 2 1 1 3]\n"
     ]
    }
   ],
   "source": [
    "val, count = np.unique(x,return_counts=True)\n",
    "print(\"Data : \")\n",
    "print(val)\n",
    "print(\"bilangan yang unik\")\n",
    "print(count)"
   ]
  },
  {
   "cell_type": "code",
   "execution_count": 49,
   "id": "37b9cd92",
   "metadata": {},
   "outputs": [
    {
     "name": "stdout",
     "output_type": "stream",
     "text": [
      "index :  1\n",
      "modus :  2\n"
     ]
    }
   ],
   "source": [
    "index = np.argmax(count)\n",
    "print(\"index : \", index)\n",
    "print(\"modus : \", val[index])"
   ]
  },
  {
   "cell_type": "code",
   "execution_count": 50,
   "id": "d94a4e81",
   "metadata": {},
   "outputs": [
    {
     "name": "stdout",
     "output_type": "stream",
     "text": [
      "mode Scipy :  ModeResult(mode=array([[1, 2, 3, 2, 7, 3, 5, 8, 8, 5, 6, 2, 4, 8]]), count=array([[1, 1, 1, 1, 1, 1, 1, 1, 1, 1, 1, 1, 1, 1]]))\n"
     ]
    }
   ],
   "source": [
    "from scipy import stats\n",
    "\n",
    "print(\"mode Scipy : \",stats.mode(x))\n",
    "modus = stats.mode(x)"
   ]
  },
  {
   "cell_type": "code",
   "execution_count": 51,
   "id": "be614583",
   "metadata": {},
   "outputs": [
    {
     "data": {
      "text/plain": [
       "ModeResult(mode=array([[1, 2, 3, 2, 7, 3, 5, 8, 8, 5, 6, 2, 4, 8]]), count=array([[1, 1, 1, 1, 1, 1, 1, 1, 1, 1, 1, 1, 1, 1]]))"
      ]
     },
     "execution_count": 51,
     "metadata": {},
     "output_type": "execute_result"
    }
   ],
   "source": [
    "modus"
   ]
  },
  {
   "cell_type": "markdown",
   "id": "435d1bc3",
   "metadata": {},
   "source": [
    "## Range"
   ]
  },
  {
   "cell_type": "code",
   "execution_count": 52,
   "id": "a6cf8659",
   "metadata": {},
   "outputs": [
    {
     "name": "stdout",
     "output_type": "stream",
     "text": [
      "Data  :  [[1 2 3 2 7 3 5 8 8 5 6 2 4 8]]\n",
      "Range :  7\n"
     ]
    }
   ],
   "source": [
    "print(\"Data  : \", x)\n",
    "print(\"Range : \", x.max()-x.min())"
   ]
  },
  {
   "cell_type": "markdown",
   "id": "ffeb8905",
   "metadata": {},
   "source": [
    "## Quartiles dan IQR"
   ]
  },
  {
   "cell_type": "code",
   "execution_count": 60,
   "id": "95297b8a",
   "metadata": {},
   "outputs": [
    {
     "name": "stdout",
     "output_type": "stream",
     "text": [
      "Data [[ 1  2  2  4  5  5  7  8  9 10]]\n",
      "\n",
      "Quartile :  3.0\n",
      "Quartile :  5.0\n",
      "Quartile :  7.5\n",
      "\n",
      "Inter quartile Range :  4.5\n"
     ]
    },
    {
     "name": "stderr",
     "output_type": "stream",
     "text": [
      "C:\\Users\\ASUS\\AppData\\Local\\Temp/ipykernel_5492/2662322144.py:5: DeprecationWarning: the `interpolation=` argument to quantile was renamed to `method=`, which has additional options.\n",
      "Users of the modes 'nearest', 'lower', 'higher', or 'midpoint' are encouraged to review the method they. (Deprecated NumPy 1.22)\n",
      "  Q1 = np.quantile(data1, .25, interpolation = 'midpoint')\n",
      "C:\\Users\\ASUS\\AppData\\Local\\Temp/ipykernel_5492/2662322144.py:8: DeprecationWarning: the `interpolation=` argument to quantile was renamed to `method=`, which has additional options.\n",
      "Users of the modes 'nearest', 'lower', 'higher', or 'midpoint' are encouraged to review the method they. (Deprecated NumPy 1.22)\n",
      "  Q2 = np.quantile(data1, .50, interpolation = 'midpoint')\n",
      "C:\\Users\\ASUS\\AppData\\Local\\Temp/ipykernel_5492/2662322144.py:11: DeprecationWarning: the `interpolation=` argument to quantile was renamed to `method=`, which has additional options.\n",
      "Users of the modes 'nearest', 'lower', 'higher', or 'midpoint' are encouraged to review the method they. (Deprecated NumPy 1.22)\n",
      "  Q3 = np.quantile(data1, .75, interpolation = 'midpoint')\n"
     ]
    }
   ],
   "source": [
    "data1= np.array([[1,2,2,4,5,5,7,8,9,10]])\n",
    "print(\"Data\",data1)\n",
    "\n",
    "#Quartile 1\n",
    "Q1 = np.quantile(data1, .25, interpolation = 'midpoint')\n",
    "print(\"\\nQuartile : \", Q1)\n",
    "#Quartile 2\n",
    "Q2 = np.quantile(data1, .50, interpolation = 'midpoint')\n",
    "print(\"Quartile : \", Q2)\n",
    "#Quartile\n",
    "Q3 = np.quantile(data1, .75, interpolation = 'midpoint')\n",
    "print(\"Quartile : \", Q3)\n",
    "\n",
    "#IQR\n",
    "IQR = Q3 - Q1\n",
    "print(\"\\nInter quartile Range : \", IQR)"
   ]
  },
  {
   "cell_type": "markdown",
   "id": "899f0373",
   "metadata": {},
   "source": [
    "## Precentiles"
   ]
  },
  {
   "cell_type": "code",
   "execution_count": 61,
   "id": "5c1c1e69",
   "metadata": {},
   "outputs": [
    {
     "name": "stdout",
     "output_type": "stream",
     "text": [
      "data :  [[ 1  2  2  4  5  5  7  8  9 10]]\n",
      "percentile_20 =  2.0\n"
     ]
    }
   ],
   "source": [
    "print(\"data : \",data1)\n",
    "percentile_20 = np.percentile(data1,20)\n",
    "print(\"percentile_20 = \",round(percentile_20,2))"
   ]
  },
  {
   "cell_type": "markdown",
   "id": "8575bf3f",
   "metadata": {},
   "source": [
    "## Varians dan Deviasi"
   ]
  },
  {
   "cell_type": "markdown",
   "id": "403eb170",
   "metadata": {},
   "source": [
    "Varians"
   ]
  },
  {
   "cell_type": "code",
   "execution_count": 62,
   "id": "87a79b62",
   "metadata": {},
   "outputs": [
    {
     "name": "stdout",
     "output_type": "stream",
     "text": [
      "Varians :  9.788888888888888\n"
     ]
    }
   ],
   "source": [
    "print(\"Varians : \",np.var(data1,ddof=1))"
   ]
  },
  {
   "cell_type": "markdown",
   "id": "438bb44c",
   "metadata": {},
   "source": [
    "Deviasi"
   ]
  },
  {
   "cell_type": "code",
   "execution_count": 63,
   "id": "6d10b2d3",
   "metadata": {},
   "outputs": [
    {
     "name": "stdout",
     "output_type": "stream",
     "text": [
      "Standar Deviasi :  2.9681644159311658\n",
      "Standar Deviasi :  3.1287200080686173\n"
     ]
    }
   ],
   "source": [
    "print(\"Standar Deviasi : \",np.std(data1,ddof=0))\n",
    "print(\"Standar Deviasi : \",np.std(data1,ddof=1))"
   ]
  },
  {
   "cell_type": "markdown",
   "id": "843cf76d",
   "metadata": {},
   "source": [
    "## Kovarians dan Korelasi"
   ]
  },
  {
   "cell_type": "markdown",
   "id": "55ea9135",
   "metadata": {},
   "source": [
    "Kovarians"
   ]
  },
  {
   "cell_type": "code",
   "execution_count": 81,
   "id": "74ed67b2",
   "metadata": {},
   "outputs": [
    {
     "name": "stdout",
     "output_type": "stream",
     "text": [
      "[[1 3 5 7 9]]\n",
      "[[ 2  4  6  8 10]]\n",
      "Kovariansnya adalah :  10.0\n"
     ]
    }
   ],
   "source": [
    "x = np.array([[1,3,5,7,9]])\n",
    "print(x)\n",
    "y = np.array([[2,4,6,8,10]])\n",
    "print(y)\n",
    "\n",
    "print(\"Kovariansnya adalah : \", np.cov(x,y)[0,1])"
   ]
  },
  {
   "cell_type": "markdown",
   "id": "c6b384fe",
   "metadata": {},
   "source": [
    "Korelasi"
   ]
  },
  {
   "cell_type": "code",
   "execution_count": 82,
   "id": "54b56968",
   "metadata": {},
   "outputs": [
    {
     "name": "stdout",
     "output_type": "stream",
     "text": [
      "[[1. 1.]\n",
      " [1. 1.]]\n"
     ]
    }
   ],
   "source": [
    "print(np.corrcoef(x,y))"
   ]
  },
  {
   "cell_type": "markdown",
   "id": "86f7f6e5",
   "metadata": {},
   "source": [
    "Kurtosis"
   ]
  },
  {
   "cell_type": "code",
   "execution_count": 83,
   "id": "843a889d",
   "metadata": {},
   "outputs": [
    {
     "name": "stdout",
     "output_type": "stream",
     "text": [
      "kurtosis :  -1.2002400240024003\n"
     ]
    }
   ],
   "source": [
    "data2=np.linspace(-5,5,100)\n",
    "print(\"kurtosis : \",stats.kurtosis(data2))"
   ]
  },
  {
   "cell_type": "markdown",
   "id": "abccceb6",
   "metadata": {},
   "source": [
    "Skewness"
   ]
  },
  {
   "cell_type": "code",
   "execution_count": 84,
   "id": "7c5b111e",
   "metadata": {},
   "outputs": [
    {
     "data": {
      "text/html": [
       "<script>\n",
       "code_show=true; \n",
       "function code_toggle() {\n",
       "    if (code_show){\n",
       "        $('div.cell.code_cell.rendered.selected div.input').hide();\n",
       "    } else {\n",
       "        $('div.cell.code_cell.rendered.selected div.input').show();\n",
       "    }\n",
       "    code_show = !code_show\n",
       "} \n",
       "$( document ).ready(code_toggle);\n",
       "</script>\n",
       "To show/hide this cell's raw code input, click <a href=\"javascript:code_toggle()\">here</a>."
      ],
      "text/plain": [
       "<IPython.core.display.HTML object>"
      ]
     },
     "metadata": {},
     "output_type": "display_data"
    },
    {
     "data": {
      "image/png": "[encoded data removed]",
      "text/plain": [
       "<Figure size 432x288 with 1 Axes>"
      ]
     },
     "metadata": {
      "needs_background": "light"
     },
     "output_type": "display_data"
    }
   ],
   "source": [
    "from IPython.display import HTML\n",
    "from IPython.display import display\n",
    "\n",
    "# Taken from https://stackoverflow.com/questions/31517194/how-to-hide-one-specific-cell-input-or-output-in-ipython-notebook\n",
    "tag = HTML('''<script>\n",
    "code_show=true; \n",
    "function code_toggle() {\n",
    "    if (code_show){\n",
    "        $('div.cell.code_cell.rendered.selected div.input').hide();\n",
    "    } else {\n",
    "        $('div.cell.code_cell.rendered.selected div.input').show();\n",
    "    }\n",
    "    code_show = !code_show\n",
    "} \n",
    "$( document ).ready(code_toggle);\n",
    "</script>\n",
    "To show/hide this cell's raw code input, click <a href=\"javascript:code_toggle()\">here</a>.''')\n",
    "display(tag)\n",
    "\n",
    "\n",
    "\n",
    "from scipy.stats import skewnorm\n",
    "import matplotlib.pyplot as plt\n",
    "\n",
    "numValues = 10000\n",
    "maxValue = 100\n",
    "skewness = -5   #Negative values are left skewed, positive values are right skewed.\n",
    "\n",
    "random = skewnorm.rvs(a = skewness,loc=maxValue, size=numValues)  #Skewnorm function\n",
    "\n",
    "random = random - min(random)      #Shift the set so the minimum value is equal to zero.\n",
    "random = random / max(random)      #Standadize all the vlues between 0 and 1. \n",
    "random = random * maxValue         #Multiply the standardized values by the maximum value.\n",
    "\n",
    "#Plot histogram to check skewness\n",
    "plt.hist(random,30,density=True, color = 'red', alpha=0.1)\n",
    "plt.show()\n",
    "\n"
   ]
  },
  {
   "cell_type": "code",
   "execution_count": 76,
   "id": "b4387176",
   "metadata": {},
   "outputs": [
    {
     "name": "stdout",
     "output_type": "stream",
     "text": [
      "Skewness -2.8663736585314984e-17\n"
     ]
    }
   ],
   "source": [
    "print(\"Skewness\",stats.skew(data2))"
   ]
  },
  {
   "cell_type": "markdown",
   "id": "06c9fb7b",
   "metadata": {},
   "source": [
    "## Eigen Vector"
   ]
  },
  {
   "cell_type": "code",
   "execution_count": 77,
   "id": "71c15e2c",
   "metadata": {},
   "outputs": [
    {
     "data": {
      "text/plain": [
       "matrix([[3, 2, 1],\n",
       "        [6, 5, 4],\n",
       "        [9, 8, 7]])"
      ]
     },
     "execution_count": 77,
     "metadata": {},
     "output_type": "execute_result"
    }
   ],
   "source": [
    "import numpy as np\n",
    "x = np.matrix([[3,2,1],[6,5,4],[9,8,7]])\n",
    "x\n"
   ]
  },
  {
   "cell_type": "code",
   "execution_count": 78,
   "id": "fecd4b02",
   "metadata": {},
   "outputs": [
    {
     "data": {
      "text/plain": [
       "array([[1., 0., 0.],\n",
       "       [0., 1., 0.],\n",
       "       [0., 0., 1.]])"
      ]
     },
     "execution_count": 78,
     "metadata": {},
     "output_type": "execute_result"
    }
   ],
   "source": [
    "e = np.eye(3)\n",
    "e"
   ]
  },
  {
   "cell_type": "code",
   "execution_count": 79,
   "id": "c6180ef5",
   "metadata": {},
   "outputs": [
    {
     "data": {
      "text/plain": [
       "(array([1.36846584e+01, 1.31534156e+00, 1.06234298e-17]),\n",
       " matrix([[ 0.17412685,  0.59431808,  0.40824829],\n",
       "         [ 0.5086532 , -0.10172622, -0.81649658],\n",
       "         [ 0.84317955, -0.79777052,  0.40824829]]))"
      ]
     },
     "execution_count": 79,
     "metadata": {},
     "output_type": "execute_result"
    }
   ],
   "source": [
    "# creating a new matrix which  is linear transformation of x\n",
    "m = x + 45*e\n",
    "np.linalg.eig(x)"
   ]
  },
  {
   "cell_type": "code",
   "execution_count": 80,
   "id": "59d11d24",
   "metadata": {},
   "outputs": [
    {
     "data": {
      "text/plain": [
       "(array([58.68465844, 46.31534156, 45.        ]),\n",
       " matrix([[ 0.17412685,  0.59431808,  0.40824829],\n",
       "         [ 0.5086532 , -0.10172622, -0.81649658],\n",
       "         [ 0.84317955, -0.79777052,  0.40824829]]))"
      ]
     },
     "execution_count": 80,
     "metadata": {},
     "output_type": "execute_result"
    }
   ],
   "source": [
    "np.linalg.eig(m)"
   ]
  },
  {
   "cell_type": "code",
   "execution_count": null,
   "id": "a15d9105",
   "metadata": {},
   "outputs": [],
   "source": []
  },
  {
   "cell_type": "code",
   "execution_count": null,
   "id": "d3dc9bda",
   "metadata": {},
   "outputs": [],
   "source": []
  }
 ],
 "metadata": {
  "kernelspec": {
   "display_name": "Python 3 (ipykernel)",
   "language": "python",
   "name": "python3"
  },
  "language_info": {
   "codemirror_mode": {
    "name": "ipython",
    "version": 3
   },
   "file_extension": ".py",
   "mimetype": "text/x-python",
   "name": "python",
   "nbconvert_exporter": "python",
   "pygments_lexer": "ipython3",
   "version": "3.9.7"
  }
 },
 "nbformat": 4,
 "nbformat_minor": 5
}
