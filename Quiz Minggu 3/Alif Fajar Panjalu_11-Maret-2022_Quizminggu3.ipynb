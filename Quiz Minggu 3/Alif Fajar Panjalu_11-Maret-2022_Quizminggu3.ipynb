{
 "cells": [
  {
   "cell_type": "markdown",
   "id": "e3aaaf45",
   "metadata": {},
   "source": [
    "# Quiz Minggu 3"
   ]
  },
  {
   "cell_type": "markdown",
   "id": "63142e86",
   "metadata": {},
   "source": [
    "## Python OOP"
   ]
  },
  {
   "cell_type": "markdown",
   "id": "68b1a485",
   "metadata": {},
   "source": [
    "### Apa itu OOP ?"
   ]
  },
  {
   "cell_type": "markdown",
   "id": "8bb50ba7",
   "metadata": {},
   "source": [
    "OOP = Object Oriented Program \n",
    "suatu metode pemrograman yang berorientasi pada objek\n",
    "yang artinya sekumpulan program-program yang sudah ada yang terdiri dari komonen komponen kecil"
   ]
  },
  {
   "cell_type": "code",
   "execution_count": null,
   "id": "f0db0be4",
   "metadata": {},
   "outputs": [],
   "source": [
    "class enemy (object):\n",
    "        \n",
    "    def __init__(self, name, level, health, damage ):\n",
    "        self.name = name\n",
    "        self.level = level\n",
    "        self.health = health\n",
    "        self.damage = damage\n",
    "        \n",
    "        \n",
    "    def status(self):\n",
    "        print(f\"\"\"        enemy stats \n",
    "        name    : {self.name}\n",
    "        level   : {self.level}\n",
    "        health  : {self.health}\n",
    "        damage  : {self.damage}\n",
    "        \"\"\")\n",
    "\n",
    "class semiboss(enemy):\n",
    "    \n",
    "    def __init__(self, name, level, health, damage, passive):\n",
    "        super().__init__(name, level, health, damage)   \n",
    "        self.passive = passive\n",
    "            \n",
    "    def status(self):\n",
    "        print(f\"\"\"       Semi-Boss Stats \n",
    "        name    : {self.name}\n",
    "        level   : {self.level}\n",
    "        health  : {self.health}\n",
    "        damage  : {self.damage}\n",
    "        passive : {self.passive}\n",
    "        \"\"\")\n",
    "        \n",
    "class boss(enemy):\n",
    "    \n",
    "    def __init__(self, name, level, health, damage, passive, ultimate):\n",
    "        super().__init__(name, level, health, damage)   \n",
    "        self.passive = passive\n",
    "        self.ultimate = ultimate\n",
    "            \n",
    "    def status(self):\n",
    "        print(f\"\"\"       Boss Stats \n",
    "        name    : {self.name}\n",
    "        level   : {self.level}\n",
    "        health  : {self.health}\n",
    "        damage  : {self.damage}\n",
    "        passive : {self.passive}\n",
    "        ultimate: {self.ultimate}\n",
    "        \"\"\")            \n",
    "enemy1 = enemy (\"hilichurl\",12,1500,130)\n",
    "enemy1.status()\n",
    "sb1 = semiboss(\"fire witch\",35,7850,3235,\"can't be atack with fire\")\n",
    "sb1.status()\n",
    "b1 = boss(\"demon king\",75,19250,6255,\"only can be hurt by light elemen\", \"enchant hellblaze\")\n",
    "b1.status()"
   ]
  },
  {
   "cell_type": "code",
   "execution_count": null,
   "id": "bb9b7ff9",
   "metadata": {},
   "outputs": [],
   "source": [
    "from abc import ABC ,abstractmethod\n",
    "class Bentuk(ABC):\n",
    "    @abstractmethod\n",
    "    def keliling(self):\n",
    "            return self.panjang*self.lebar\n",
    "    @abstractmethod\n",
    "    def luas(self):\n",
    "            return self.panjang*self.lebar\n",
    "    @abstractmethod\n",
    "    def volume(self):\n",
    "            return self.panjang*self.lebar*self.tinggi\n",
    "class persegi_panjang(Bentuk):\n",
    "    def __init__(self,panjang,lebar,tinggi):\n",
    "        self.panjang=panjang\n",
    "        self.lebar=lebar\n",
    "        self.tinggi=tinggi\n",
    "    def keliling(self):\n",
    "            print (\"\\nKeliling persegi panjang : \",self.panjang*self.lebar,\"\\n\")\n",
    "    def luas(self):\n",
    "            print (\"luas persegi panjang : \",self.panjang*self.lebar,\"\\n\")\n",
    "    def volume(self):\n",
    "            print (\"volume persegi panjang : \",self.panjang*self.lebar*self.tinggi,\"\\n\") \n",
    "        \n",
    "persegi_panjang1 = persegi_panjang (int(input(\"\\nMasukkan panjang : \")),int(input(\"Masukkan lebar : \")),int(input(\"Masukkan tinggi : \")))\n",
    "persegi_panjang1.keliling()\n",
    "persegi_panjang1.luas()\n",
    "persegi_panjang1.volume()"
   ]
  },
  {
   "cell_type": "markdown",
   "id": "2ffe1c28",
   "metadata": {},
   "source": [
    "### Sebutkan dan jelaskan 2 jenis modules yang ada di python"
   ]
  },
  {
   "cell_type": "markdown",
   "id": "ce30de5c",
   "metadata": {},
   "source": [
    "Built-in Modules dan Custom Modules"
   ]
  },
  {
   "cell_type": "code",
   "execution_count": null,
   "id": "2608b01a",
   "metadata": {},
   "outputs": [],
   "source": [
    "Built in modules merupakan module yang berisikan beberapa funsi didalamnya\n",
    "custom Modules merupakan module yang berisikan fungsi maupun "
   ]
  },
  {
   "cell_type": "markdown",
   "id": "91fbad08",
   "metadata": {},
   "source": [
    "## Menghitung menggunakan modules"
   ]
  },
  {
   "cell_type": "code",
   "execution_count": 31,
   "id": "500c5d8d",
   "metadata": {},
   "outputs": [],
   "source": [
    "import math"
   ]
  },
  {
   "cell_type": "code",
   "execution_count": 39,
   "id": "ff67a0b0",
   "metadata": {},
   "outputs": [],
   "source": [
    "import hitung as h"
   ]
  },
  {
   "cell_type": "code",
   "execution_count": 44,
   "id": "5ea4b6bf",
   "metadata": {},
   "outputs": [
    {
     "data": {
      "text/plain": [
       "28.206210954253756"
      ]
     },
     "execution_count": 44,
     "metadata": {},
     "output_type": "execute_result"
    }
   ],
   "source": [
    "h.rumus(math.sqrt(175),4,math.sqrt(7),math.log(81))"
   ]
  },
  {
   "cell_type": "markdown",
   "id": "e9a1d48f",
   "metadata": {},
   "source": [
    "## Custom Exception Handling"
   ]
  },
  {
   "cell_type": "code",
   "execution_count": null,
   "id": "ac157b06",
   "metadata": {},
   "outputs": [],
   "source": [
    "a = int(input(\"Masukkan angka a: \"))\n",
    "b = int(input(\"Masukkan angka b: \"))\n",
    "\n",
    "try:\n",
    "    hasil = a/b\n",
    "    print(hasil)\n",
    "except Exception :\n",
    "    print(\"Bilangan tidak bisa diabgi 0 !!\")\n"
   ]
  },
  {
   "cell_type": "markdown",
   "id": "5e731044",
   "metadata": {},
   "source": [
    "## Artificial Inteligence"
   ]
  },
  {
   "cell_type": "markdown",
   "id": "fa5ada11",
   "metadata": {},
   "source": [
    "### Perbedaan structurde dan untstructured data dan sebutkan 3 sumber?"
   ]
  },
  {
   "cell_type": "markdown",
   "id": "f67be5f3",
   "metadata": {},
   "source": [
    "Structured data adalah data yang bentukannya masih berupa  baris dan kolom dan bersifat relasional\n",
    "\n",
    "Unstructured data adalah data yang tidak memiliki bentuk dan bermacam macam formatnya misial gambar,video,suara\n",
    "\n",
    "sumber data :\n",
    "* Data kependudukan\n",
    "* Data Mahasiswa\n",
    "* Data Pasien Covid"
   ]
  },
  {
   "cell_type": "markdown",
   "id": "b4e86802",
   "metadata": {},
   "source": [
    "### Jelaskan perbedaan AI, Machine Learning dan Deep Learnig"
   ]
  },
  {
   "cell_type": "markdown",
   "id": "924789d7",
   "metadata": {},
   "source": [
    "Ai Merupakan Teknologi masakini yang dengan membawa kecerdasan manusia ke dalam mesin\n",
    "\n",
    "Machine Learning sesuatu yang dilakukan untuk memasukan data kedalam mesin\n",
    "\n",
    "deep learning adalah bagaimana mesin itu b=bekerja sehingga lama kelamaan mesin tersebut bisa meggunakan data data yang sudah diprogram "
   ]
  },
  {
   "cell_type": "markdown",
   "id": "96ac6166",
   "metadata": {},
   "source": [
    "### Sebutkan 3 contoh Aplikasi Machine learning di sektor smart city"
   ]
  },
  {
   "cell_type": "markdown",
   "id": "bdfc9cfb",
   "metadata": {},
   "source": [
    "Smart city:\n",
    "<br>\n",
    "Google Search\n",
    "<br>\n",
    "e-Commerce\n",
    "<br>\n",
    "e-Government"
   ]
  },
  {
   "cell_type": "markdown",
   "id": "46109fc1",
   "metadata": {},
   "source": [
    "Argiculture :\n",
    "<br>\n",
    "AI untuk mengetahui Kualitas Hasil panen\n",
    "<br>\n",
    "AI untuk Scheduliing \n",
    "<br>\n",
    "AI untuk membantu menggarap lahan"
   ]
  },
  {
   "cell_type": "markdown",
   "id": "f77992dd",
   "metadata": {},
   "source": [
    "## Math For AI"
   ]
  },
  {
   "cell_type": "markdown",
   "id": "7b0e79a0",
   "metadata": {},
   "source": [
    "### Mengapa ilmu Matematika Penting ketika mempelajari AI"
   ]
  },
  {
   "cell_type": "markdown",
   "id": "7c8608e5",
   "metadata": {},
   "source": [
    "Menurut saya itu penting dikarenakan AI pada dasarnya merupakan AI adalah mesin yang dimodlisasikan oleh manusia agar bisa berfikir seperti manusia, pada dasarnya di dalam AI pasti kita akan mengetahui bahwa akan ada Machine learning dan juga deep learnig yang ada hubungannya dengan Matematika didalamnya seprti proses Aljabar linear, kalkulus, nilai eigen,proabilitas dll, yang dimana semua model/rumus/pemahaman matematika tersebut kita masukan kedalam sebuah mesin atau program yang nantinya akan kita beri perintah dan AI mampu mengerjakan semua yang sudah di inputkan dan berkembang"
   ]
  },
  {
   "cell_type": "markdown",
   "id": "821c474c",
   "metadata": {},
   "source": [
    "### Jelaskan perbedaan vetor dengan Skalar"
   ]
  },
  {
   "cell_type": "markdown",
   "id": "a836d8f6",
   "metadata": {},
   "source": [
    "#### Skalar :\n",
    "* Besaran skalar tidak mempunyai arah\n",
    "* Besaran skalar berupa jarak, waktu, suhu, volume\n",
    "* Untuk menghitung besaran skalar dapat dilakukan dengan aljabar biasa\n"
   ]
  },
  {
   "cell_type": "markdown",
   "id": "55d8bfe3",
   "metadata": {},
   "source": [
    "#### Vektor : \n",
    "* besaran vektor mempunyai arah\n",
    "* besaran vektor perpindahan, kecepatan, momentum, percepatan.\n",
    "* Untuk menghitung besarn vektor agak kompleks"
   ]
  },
  {
   "cell_type": "markdown",
   "id": "d80d1bfc",
   "metadata": {},
   "source": [
    "### Perbedaan jarak dari euclidian dan manhattan"
   ]
  },
  {
   "cell_type": "markdown",
   "id": "3940ff4f",
   "metadata": {},
   "source": [
    "* Euclidian adalah jarak antara dua titik yang satu dengan yang lain yang dapat diukur dengna menggunakan penggaris, pada perhitungan jarak Euclidean digunakan formula Pythagoras. Dengan menggunakan formula ini sebagai jarak, ruang Euclidean menjadi ruang metrik\n",
    "\n",
    "* Manhattan merupakan bentuk geometri di mana fungsi jarak biasa atau metrik geometri Euclidean digantikan oleh metrik baru di mana jarak antara dua titik adalah jumlah dari perbedaan mutlak mereka Cartesian koordinat."
   ]
  },
  {
   "cell_type": "markdown",
   "id": "921cc8fc",
   "metadata": {},
   "source": [
    "###  Apa kegunaan Matriks dalam ilmu matematika ketika penerapan AI"
   ]
  },
  {
   "cell_type": "markdown",
   "id": "90c65a47",
   "metadata": {},
   "source": [
    "Penggunaan Matriks dalam penerapan AI adalah ita bisa dapat mencari nilai Matriks maupun nilai eigen dan eigen vektor"
   ]
  },
  {
   "cell_type": "markdown",
   "id": "3e092b23",
   "metadata": {},
   "source": [
    "## Machine Learning"
   ]
  },
  {
   "cell_type": "markdown",
   "id": "197b87b6",
   "metadata": {},
   "source": [
    "###  Jelaskan Perbedaan Supervised dan Unsupervised learning sebutkan 2 Contohnya"
   ]
  },
  {
   "cell_type": "markdown",
   "id": "aee4f321",
   "metadata": {},
   "source": [
    "* supervised learning adalah proses pembelajaran yang diawasi oleh pengawas, \n",
    "* sedangkan dalam algoritma unsupervised learning, proses pembelajaran lebih bebas karena tidak ada pengawasan. Algoritma unsupervised learning lebih bebas dalam proses eksplorasi data karena tidak memiliki data label dan bisa mencari karakteristik data yang tersembunyi."
   ]
  },
  {
   "cell_type": "markdown",
   "id": "d3e57652",
   "metadata": {},
   "source": [
    "### Sebutkan Setiap tahap yang ada pada ML life cycle"
   ]
  },
  {
   "cell_type": "markdown",
   "id": "6975ce61",
   "metadata": {},
   "source": [
    "* Define project objective\n",
    "* Aqcuire Data\n",
    "* Model Data\n",
    "* Interpret & Communicate\n",
    "* Implment Documents and Maintain"
   ]
  },
  {
   "cell_type": "markdown",
   "id": "37389fa4",
   "metadata": {},
   "source": [
    "### Perbedaan Reggresion dengan Clustering"
   ]
  },
  {
   "cell_type": "markdown",
   "id": "57b5266a",
   "metadata": {},
   "source": [
    "* Regresi adalah suatu teknik analisis untuk mengidentifikasi relasi atau hubungan diantara dua variabel atau lebih. Regresi bertujuan untuk menemukan suatu fungsi yang memodelkan data dengan meminimalkan error atau selisih antara nilai prediksi dengan nilai sebenarnya.\n",
    "* Clustering umumnya banyak digunakan untuk segmentasi. Proses segmentasi biasanya tidak dapat dikerjakan dengan mudah untuk data dengan jumlah yang sangat besar, oleh karena itu dibutuhkan pendekatan analitis untuk membagi data tersebut menjadi bagian-bagian yang lebih kecil berdasarkan kemiripan karakteristiknya."
   ]
  },
  {
   "cell_type": "markdown",
   "id": "ec3dd76a",
   "metadata": {},
   "source": [
    "### Apa itu Algoritma Artificial neural Network dan untuk apa fungsinya"
   ]
  },
  {
   "cell_type": "markdown",
   "id": "fbec601b",
   "metadata": {},
   "source": [
    "Artificial Neuron Network (ANN) merupakan gabungan dari bebrapa neuron (perceptron) yang disusun dalam beberapa lapisan(layer)\n",
    "\n",
    "* fungsi :\n",
    "* mengklasifikas1 pola\n",
    "* Memetakan pola dari input ke output\n",
    "* Menyimpan pola\n",
    "* Memetakan berbagai pola yang sejenis\n",
    "* Mengoptimasi Masalah\n",
    "* Melakukan Prediksi\n"
   ]
  },
  {
   "cell_type": "code",
   "execution_count": null,
   "id": "3750c2de",
   "metadata": {},
   "outputs": [],
   "source": []
  },
  {
   "cell_type": "code",
   "execution_count": null,
   "id": "51a648a9",
   "metadata": {},
   "outputs": [],
   "source": []
  }
 ],
 "metadata": {
  "kernelspec": {
   "display_name": "Python 3 (ipykernel)",
   "language": "python",
   "name": "python3"
  },
  "language_info": {
   "codemirror_mode": {
    "name": "ipython",
    "version": 3
   },
   "file_extension": ".py",
   "mimetype": "text/x-python",
   "name": "python",
   "nbconvert_exporter": "python",
   "pygments_lexer": "ipython3",
   "version": "3.9.7"
  }
 },
 "nbformat": 4,
 "nbformat_minor": 5
}
