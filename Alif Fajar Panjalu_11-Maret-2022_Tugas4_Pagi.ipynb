{
 "cells": [
  {
   "cell_type": "markdown",
   "id": "da196161",
   "metadata": {},
   "source": [
    "# FGD Sesi Pagi"
   ]
  },
  {
   "cell_type": "markdown",
   "id": "62a30f4c",
   "metadata": {},
   "source": [
    "## 10-Maret-2022 "
   ]
  },
  {
   "cell_type": "markdown",
   "id": "27907108",
   "metadata": {},
   "source": [
    "# Latihan tambahan\n",
    "\n",
    "Misalkan kamu adalah data scientist di gojek. Kamu ingin mengetahui apakah kemacetan mempengaruhi tingkat kepuasan pelanggan. Jadi kamu ingin memebandingkan nilai \"bintang\" dari customer saat dia order di jam macet dan tidak macet.\n",
    "(#hint = data dari customer yang sama)\n",
    "\n",
    "macet = [2, 3, 5, 4, 5, 4, 4, 3, 4, 3, 4, 5, 4, 5, 4, 3, 4, 3, 3, 5, 4, 3, 4, 3, 4, 3, 4, 4, 5]\n",
    "\n",
    "tidak_macet = [2, 2, 4, 5, 4, 3, 3, 3, 3, 3, 3, 4, 4, 5, 4, 3, 3, 2, 3, 4, 4, 3, 3, 3, 4, 3, 4, 3, 4]\n",
    "\n",
    "1. Buat hipotesisnya\n",
    "2. Lakukan uji asumsi normalitasnya\n",
    "3. Jika datanya normal lakukan uji parametrik, jika tidak berdistribusi normal lakukan uji nonparametrik\n",
    "4. Apa kesimpulan uji hipotesisnya?"
   ]
  },
  {
   "cell_type": "code",
   "execution_count": 17,
   "id": "e545fd92",
   "metadata": {},
   "outputs": [
    {
     "name": "stdout",
     "output_type": "stream",
     "text": [
      "[2 3 5 4 5 4 4 3 4 3 4 5 4 5 4 3 4 3 3 5 4 3 4 3 4 3 4 4 5]\n",
      "Panjang data :  29\n",
      "[2 2 4 5 4 3 3 3 3 3 3 4 4 5 4 3 3 2 3 4 4 3 3 3 4 3 4 3 4]\n",
      "panjang data :  29\n"
     ]
    }
   ],
   "source": [
    "import matplotlib.pyplot as plt\n",
    "import pandas as pd\n",
    "import seaborn as sns\n",
    "import numpy as np\n",
    "from scipy import stats\n",
    "\n",
    "macet = np.array([2, 3, 5, 4, 5, 4, 4, 3, 4, 3, 4, 5, 4, 5, 4, 3, 4, 3, 3, 5, 4, 3, 4, 3, 4, 3, 4, 4, 5])\n",
    "tidak_macet = np.array([2, 2, 4, 5, 4, 3, 3, 3, 3, 3, 3, 4, 4, 5, 4, 3, 3, 2, 3, 4, 4, 3, 3, 3, 4, 3, 4, 3, 4])\n",
    "print(macet)\n",
    "print(\"Panjang data : \",len(macet))\n",
    "print(tidak_macet)\n",
    "print(\"panjang data : \",int(len(macet)))"
   ]
  },
  {
   "cell_type": "markdown",
   "id": "8c1f990b",
   "metadata": {},
   "source": [
    "### Uji Normalitas\n",
    "Ho = data berdistribusi normal\n",
    "\n",
    "Ha = data tidak berdistribusi normal"
   ]
  },
  {
   "cell_type": "code",
   "execution_count": 9,
   "id": "0d6ef202",
   "metadata": {},
   "outputs": [
    {
     "data": {
      "text/plain": [
       "<seaborn.axisgrid.FacetGrid at 0x196e70c0a90>"
      ]
     },
     "execution_count": 9,
     "metadata": {},
     "output_type": "execute_result"
    },
    {
     "data": {
      "image/png": "[encoded data removed]",
      "text/plain": [
       "<Figure size 360x360 with 1 Axes>"
      ]
     },
     "metadata": {
      "needs_background": "light"
     },
     "output_type": "display_data"
    }
   ],
   "source": [
    "sns.displot(macet)"
   ]
  },
  {
   "cell_type": "code",
   "execution_count": 10,
   "id": "f500fa02",
   "metadata": {},
   "outputs": [
    {
     "data": {
      "text/plain": [
       "<seaborn.axisgrid.FacetGrid at 0x196f42125e0>"
      ]
     },
     "execution_count": 10,
     "metadata": {},
     "output_type": "execute_result"
    },
    {
     "data": {
      "image/png": "[encoded data removed]",
      "text/plain": [
       "<Figure size 360x360 with 1 Axes>"
      ]
     },
     "metadata": {
      "needs_background": "light"
     },
     "output_type": "display_data"
    }
   ],
   "source": [
    "sns.displot(tidak_macet)"
   ]
  },
  {
   "cell_type": "markdown",
   "id": "a624164e",
   "metadata": {},
   "source": [
    "### \n",
    "macet = Hipotsis Berdistribusi normal (H0)\n",
    "<br>\n",
    "tidak_macet = Hipotesis tidak Berdistribusi normal (Ha)"
   ]
  },
  {
   "cell_type": "markdown",
   "id": "27047ad1",
   "metadata": {},
   "source": [
    "### Uji Komogorov Smirnov"
   ]
  },
  {
   "cell_type": "markdown",
   "id": "ed3c6149",
   "metadata": {},
   "source": [
    "Berdasarkan histogram, data macet berbentuk seperti lonceng dengan rata-rata pas di tengah dan data tidak_macet bebentuk sekperti lonceng tetapi agak cenderung ke sebelah kanan, sehingga bisa kita simpulkan data berditribusi tidak normak, mari coba dengan uji kolmogorov smirnov, asumsikan Selang kepercayaan = 95% dan alpha = 5%"
   ]
  },
  {
   "cell_type": "code",
   "execution_count": 21,
   "id": "414bfce7",
   "metadata": {},
   "outputs": [
    {
     "name": "stdout",
     "output_type": "stream",
     "text": [
      "uji kolmogorov smirnov data macet =  KstestResult(statistic=0.2414618941043637, pvalue=0.056685222453497386)\n",
      "uji kolmogorov smirnov data tidak_macet =  KstestResult(statistic=0.2769460572882385, pvalue=0.018550502658514323)\n"
     ]
    }
   ],
   "source": [
    "z_score_macet = stats.zscore(macet)\n",
    "z_score_tidak_macet = stats.zscore(tidak_macet)\n",
    "print('uji kolmogorov smirnov data macet = ', stats.kstest(z_score_macet, \"norm\"))\n",
    "print('uji kolmogorov smirnov data tidak_macet = ', stats.kstest(z_score_tidak_macet, \"norm\"))"
   ]
  },
  {
   "cell_type": "markdown",
   "id": "565089c5",
   "metadata": {},
   "source": [
    "* Hasil dari p-value macet = 0.056 (>0.05) Data berdistribu normal\n",
    "* Hasil dari p-value tidak_macet = 0.0185 (>0.05) Data tidak berdistribusi normal"
   ]
  },
  {
   "cell_type": "markdown",
   "id": "142c063c",
   "metadata": {},
   "source": [
    "* Jika p-value <= alpha (Ho ditolak)\n",
    "* Jika p-value > alpha (Ho diterima)"
   ]
  },
  {
   "cell_type": "markdown",
   "id": "b54c00a4",
   "metadata": {},
   "source": [
    "###  Uji Wilcoxon"
   ]
  },
  {
   "cell_type": "code",
   "execution_count": 22,
   "id": "ffd31f7f",
   "metadata": {},
   "outputs": [
    {
     "data": {
      "text/plain": [
       "WilcoxonResult(statistic=8.0, pvalue=0.0007891129890156299)"
      ]
     },
     "execution_count": 22,
     "metadata": {},
     "output_type": "execute_result"
    }
   ],
   "source": [
    "w = macet - tidak_macet\n",
    "stats.wilcoxon(w)"
   ]
  },
  {
   "cell_type": "markdown",
   "id": "9946c612",
   "metadata": {},
   "source": [
    "* Hasil dari p-value w = 0.0007 (<0.05) Data berdistribu tidak normal\n",
    "\n",
    "* Jika p-value <= alpha (Ho ditolak)\n",
    "* Jika p-value > alpha (Ho diterima)\n",
    "\n",
    "H0 diterima "
   ]
  },
  {
   "cell_type": "markdown",
   "id": "7b4fac5e",
   "metadata": {},
   "source": [
    "### Kesimpulannya"
   ]
  },
  {
   "cell_type": "markdown",
   "id": "94992198",
   "metadata": {},
   "source": [
    "Dari data di atas kita bisa menyimpulkan bahwa kemacetan mempengaruhi tingkat kepuasan para pelanggan itu berpengaruh pada penilaian pelanggan kepada driver "
   ]
  },
  {
   "cell_type": "code",
   "execution_count": null,
   "id": "c229c32d",
   "metadata": {},
   "outputs": [],
   "source": []
  }
 ],
 "metadata": {
  "kernelspec": {
   "display_name": "Python 3 (ipykernel)",
   "language": "python",
   "name": "python3"
  },
  "language_info": {
   "codemirror_mode": {
    "name": "ipython",
    "version": 3
   },
   "file_extension": ".py",
   "mimetype": "text/x-python",
   "name": "python",
   "nbconvert_exporter": "python",
   "pygments_lexer": "ipython3",
   "version": "3.9.7"
  }
 },
 "nbformat": 4,
 "nbformat_minor": 5
}
