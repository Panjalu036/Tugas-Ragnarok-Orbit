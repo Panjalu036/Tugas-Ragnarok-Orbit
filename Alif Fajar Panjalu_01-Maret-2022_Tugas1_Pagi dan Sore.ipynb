{
 "cells": [
  {
   "cell_type": "markdown",
   "id": "01e8670b",
   "metadata": {},
   "source": [
    "# SESI PAGI "
   ]
  },
  {
   "cell_type": "markdown",
   "id": "f5dac0cc",
   "metadata": {},
   "source": [
    "# Create String"
   ]
  },
  {
   "cell_type": "code",
   "execution_count": 1,
   "id": "8b920bc0",
   "metadata": {},
   "outputs": [
    {
     "name": "stdout",
     "output_type": "stream",
     "text": [
      "hello\n",
      "\n",
      "This is also a string\n"
     ]
    }
   ],
   "source": [
    "# Menginputkan Sepatah Kata\n",
    "print('hello')\n",
    "print() # Digunakan untuk menampilkan enter\n",
    "# Menginputkan Seluruh kata\n",
    "print('This is also a string')\n"
   ]
  },
  {
   "cell_type": "markdown",
   "id": "2da7a2d1",
   "metadata": {},
   "source": [
    "# Variable"
   ]
  },
  {
   "cell_type": "code",
   "execution_count": 2,
   "id": "72acb755",
   "metadata": {},
   "outputs": [
    {
     "name": "stdout",
     "output_type": "stream",
     "text": [
      "New York\n",
      "<class 'str'>\n",
      "8\n"
     ]
    }
   ],
   "source": [
    "s = 'New York'\n",
    "print(s)\n",
    "print(type(s))\n",
    "print(len(s)) # what's the string length New York"
   ]
  },
  {
   "cell_type": "markdown",
   "id": "7aeb6737",
   "metadata": {},
   "source": [
    "# String Indexing"
   ]
  },
  {
   "cell_type": "code",
   "execution_count": 3,
   "id": "2c21bc56",
   "metadata": {},
   "outputs": [
    {
     "name": "stdout",
     "output_type": "stream",
     "text": [
      "Hello World\n",
      "\n",
      "H\n",
      "\n",
      "e\n"
     ]
    }
   ],
   "source": [
    "# Memasukan String\n",
    "s = 'Hello World'\n",
    "# Menampilkan Objek\n",
    "print(s)\n",
    "print()\n",
    "# Menampilkan Elemen ke - 1 \n",
    "print(s[0])\n",
    "print()\n",
    "# Menampilkan Elemen ke - 2\n",
    "print(s[1])"
   ]
  },
  {
   "cell_type": "markdown",
   "id": "3af939dc",
   "metadata": {},
   "source": [
    "# String Rangkaian dan Pengulangan"
   ]
  },
  {
   "cell_type": "code",
   "execution_count": 4,
   "id": "4c9d382c",
   "metadata": {},
   "outputs": [
    {
     "name": "stdout",
     "output_type": "stream",
     "text": [
      "Hello World\n"
     ]
    }
   ],
   "source": [
    "# concatenation (addition)\n",
    "s1 = 'Hello'\n",
    "s2 = \"World\"\n",
    "print(s1 + \" \" + s2)"
   ]
  },
  {
   "cell_type": "code",
   "execution_count": 5,
   "id": "30c68c26",
   "metadata": {},
   "outputs": [
    {
     "name": "stdout",
     "output_type": "stream",
     "text": [
      "Hello_Hello_Hello_\n",
      "----------\n"
     ]
    }
   ],
   "source": [
    "# repetition (multiplication)\n",
    "print(\"Hello_\" * 3)\n",
    "print(\"-\" * 10)"
   ]
  },
  {
   "cell_type": "markdown",
   "id": "f93e0b92",
   "metadata": {},
   "source": [
    "# String Slicing "
   ]
  },
  {
   "cell_type": "code",
   "execution_count": 6,
   "id": "3a7e93ab",
   "metadata": {},
   "outputs": [
    {
     "name": "stdout",
     "output_type": "stream",
     "text": [
      "a\n",
      "e Wor\n",
      "Worl\n"
     ]
    }
   ],
   "source": [
    "s = \"Namaste World\"\n",
    "# Menampilkan String\n",
    "print(s[1]) #Melaukan \"Indexing\"\n",
    "print(s[6:11]) #dan ini melaukan \"Slicing\"\n",
    "print(s[-5:-1])"
   ]
  },
  {
   "cell_type": "code",
   "execution_count": 7,
   "id": "616cf663",
   "metadata": {},
   "outputs": [
    {
     "name": "stdout",
     "output_type": "stream",
     "text": [
      "True\n"
     ]
    }
   ],
   "source": [
    "# test substring membership\n",
    "print(\"Wor\" in s)"
   ]
  },
  {
   "cell_type": "markdown",
   "id": "ad0fa953",
   "metadata": {},
   "source": [
    "# String upper and lower case"
   ]
  },
  {
   "cell_type": "code",
   "execution_count": 8,
   "id": "7a227e68",
   "metadata": {},
   "outputs": [],
   "source": [
    "s = \"Hello World\"\n",
    "s1 = \"Hello\"\n",
    "s2 = \"World\""
   ]
  },
  {
   "cell_type": "code",
   "execution_count": 9,
   "id": "267a6d73",
   "metadata": {},
   "outputs": [
    {
     "name": "stdout",
     "output_type": "stream",
     "text": [
      "HELLO WORLD\n"
     ]
    }
   ],
   "source": [
    "print(s.upper()) ## Mengubah Menjadi Semua Elemen menjadi Huruf Kapital..!!"
   ]
  },
  {
   "cell_type": "code",
   "execution_count": 10,
   "id": "eff26d84",
   "metadata": {},
   "outputs": [
    {
     "name": "stdout",
     "output_type": "stream",
     "text": [
      "hello world\n"
     ]
    }
   ],
   "source": [
    "print(s.lower()) ## Mengubah semua Elemen menjadi huruf biasa..!!"
   ]
  },
  {
   "cell_type": "code",
   "execution_count": 11,
   "id": "8a28d664",
   "metadata": {},
   "outputs": [
    {
     "name": "stdout",
     "output_type": "stream",
     "text": [
      "HELLO world\n"
     ]
    }
   ],
   "source": [
    "print(s1.upper()+\" \"+s2.lower()) ## Mengubah Beberapa bagian elemen ke Kapital dan biasa ..!!"
   ]
  },
  {
   "cell_type": "code",
   "execution_count": 12,
   "id": "d26236f0",
   "metadata": {},
   "outputs": [
    {
     "name": "stdout",
     "output_type": "stream",
     "text": [
      "hello WORLD\n"
     ]
    }
   ],
   "source": [
    "print(s1.lower()+\" \"+s2.upper()) ## Mengubah Beberapa bagian elemen ke Kapital dan biasa ..!!"
   ]
  },
  {
   "cell_type": "markdown",
   "id": "9b2daf73",
   "metadata": {},
   "source": [
    "# Print Formatting"
   ]
  },
  {
   "cell_type": "code",
   "execution_count": 13,
   "id": "031cbb86",
   "metadata": {},
   "outputs": [],
   "source": [
    "name = \"Einstein\"\n",
    "age = 22\n",
    "married = True"
   ]
  },
  {
   "cell_type": "code",
   "execution_count": 14,
   "id": "e381cbd3",
   "metadata": {},
   "outputs": [
    {
     "name": "stdout",
     "output_type": "stream",
     "text": [
      "My name is  Einstein  my age is 22 that i am married is  True\n"
     ]
    }
   ],
   "source": [
    "print(\"My name is \", name,\" my age is\", age,\"that i am married is \",married  )\n",
    "# Formatting jika menggunakan koma (,)"
   ]
  },
  {
   "cell_type": "code",
   "execution_count": 15,
   "id": "fa7de8ce",
   "metadata": {},
   "outputs": [
    {
     "name": "stdout",
     "output_type": "stream",
     "text": [
      "My name is Einstein my age is 22 that i am married is True\n"
     ]
    }
   ],
   "source": [
    "print(\"My name is %s my age is %s that i am married is %s\" % (name,age,married) )\n",
    "# Formatting Print ju=ika menggunakan persen (%)"
   ]
  },
  {
   "cell_type": "code",
   "execution_count": 16,
   "id": "e7629405",
   "metadata": {},
   "outputs": [
    {
     "name": "stdout",
     "output_type": "stream",
     "text": [
      "My name is Einstein my age is 22 that i am married is True\n"
     ]
    }
   ],
   "source": [
    "print(\"My name is {} my age is {} that i am married is {}\" .format (name,age,married) )\n",
    "# Formatting Print ju=ika menggunakan Kurung Kurawal ({})"
   ]
  },
  {
   "cell_type": "markdown",
   "id": "b1e8aae9",
   "metadata": {},
   "source": [
    "# Numbers "
   ]
  },
  {
   "cell_type": "code",
   "execution_count": 17,
   "id": "40ae4ee1",
   "metadata": {},
   "outputs": [
    {
     "name": "stdout",
     "output_type": "stream",
     "text": [
      "3\n",
      "1\n",
      "4\n",
      "1.5\n",
      "0\n"
     ]
    }
   ],
   "source": [
    "#Basic Arithmetic\n",
    "# Pentambahan\n",
    "print(2+1)\n",
    "# Pengurangan\n",
    "print(2-1)\n",
    "# Perkalian\n",
    "print(2*2)\n",
    "# Pembagian\n",
    "print(3/2)\n",
    "# Pemodulan\n",
    "print(4%2)"
   ]
  },
  {
   "cell_type": "code",
   "execution_count": 18,
   "id": "104fca95",
   "metadata": {},
   "outputs": [
    {
     "data": {
      "text/plain": [
       "8"
      ]
     },
     "execution_count": 18,
     "metadata": {},
     "output_type": "execute_result"
    }
   ],
   "source": [
    "#Arithmetic continued\n",
    "# Pangkat\n",
    "2**3"
   ]
  },
  {
   "cell_type": "code",
   "execution_count": 19,
   "id": "e2025e5c",
   "metadata": {},
   "outputs": [
    {
     "data": {
      "text/plain": [
       "105"
      ]
     },
     "execution_count": 19,
     "metadata": {},
     "output_type": "execute_result"
    }
   ],
   "source": [
    "# Operasi Sederahana\n",
    "2 + 10 * 10 + 3\n"
   ]
  },
  {
   "cell_type": "code",
   "execution_count": 20,
   "id": "c884ae21",
   "metadata": {},
   "outputs": [
    {
     "data": {
      "text/plain": [
       "156"
      ]
     },
     "execution_count": 20,
     "metadata": {},
     "output_type": "execute_result"
    }
   ],
   "source": [
    "# Menggunakan kurung\n",
    "(2+10) * (10+3)"
   ]
  },
  {
   "cell_type": "markdown",
   "id": "5cdd852e",
   "metadata": {},
   "source": [
    "# SESI SORE "
   ]
  },
  {
   "cell_type": "markdown",
   "id": "ffe1a2b7",
   "metadata": {},
   "source": [
    "# Variable Assignment"
   ]
  },
  {
   "cell_type": "code",
   "execution_count": 21,
   "id": "9e2eeef0",
   "metadata": {},
   "outputs": [
    {
     "data": {
      "text/plain": [
       "10"
      ]
     },
     "execution_count": 21,
     "metadata": {},
     "output_type": "execute_result"
    }
   ],
   "source": [
    "# Let's create an object called \"a\" and assign it the number 5\n",
    "a = 5\n",
    "\n",
    "# Adding the objects\n",
    "a+a\n"
   ]
  },
  {
   "cell_type": "code",
   "execution_count": 22,
   "id": "436d194b",
   "metadata": {},
   "outputs": [
    {
     "data": {
      "text/plain": [
       "10"
      ]
     },
     "execution_count": 22,
     "metadata": {},
     "output_type": "execute_result"
    }
   ],
   "source": [
    "# Reassignment\n",
    "a = 10\n",
    "# Check\n",
    "a"
   ]
  },
  {
   "cell_type": "markdown",
   "id": "786c35fc",
   "metadata": {},
   "source": [
    "# Data Types"
   ]
  },
  {
   "cell_type": "code",
   "execution_count": 23,
   "id": "3badd980",
   "metadata": {},
   "outputs": [
    {
     "name": "stdout",
     "output_type": "stream",
     "text": [
      "<class 'int'>\n",
      "<class 'float'>\n"
     ]
    }
   ],
   "source": [
    "a = 42\n",
    "b = 32.30\n",
    "print(type(a))#gets type of a\n",
    "print(type(b))#gets type of b\n"
   ]
  },
  {
   "cell_type": "markdown",
   "id": "aaf8f121",
   "metadata": {},
   "source": [
    "# List "
   ]
  },
  {
   "cell_type": "code",
   "execution_count": 24,
   "id": "b4230be0",
   "metadata": {},
   "outputs": [
    {
     "name": "stdout",
     "output_type": "stream",
     "text": [
      "[1, 2, 3]\n"
     ]
    }
   ],
   "source": [
    "# Mengisi elemen kedalam list dengan nama \"my_list\"\n",
    "my_list = [1,2,3]\n",
    "print(my_list)"
   ]
  },
  {
   "cell_type": "code",
   "execution_count": 25,
   "id": "63aaa93d",
   "metadata": {},
   "outputs": [
    {
     "name": "stdout",
     "output_type": "stream",
     "text": [
      "['A string', 23, 100.232, 'o']\n"
     ]
    }
   ],
   "source": [
    "# Mengisi ulang elemen kedalam list dengan nama \"my_list\"\n",
    "my_list = ['A string',23,100.232,'o']\n",
    "print(my_list)"
   ]
  },
  {
   "cell_type": "code",
   "execution_count": 26,
   "id": "cc0c57c6",
   "metadata": {},
   "outputs": [
    {
     "name": "stdout",
     "output_type": "stream",
     "text": [
      "['one', 'two', 'three', 4, 5]\n"
     ]
    }
   ],
   "source": [
    "# Menambahakan elemen baru ke dalam List\n",
    "my_list = ['one','two','three',4,5]\n",
    "print (my_list)"
   ]
  },
  {
   "cell_type": "code",
   "execution_count": 27,
   "id": "af83e04e",
   "metadata": {},
   "outputs": [
    {
     "name": "stdout",
     "output_type": "stream",
     "text": [
      "[1, 2.3, ['a', 'b'], 'New York', 'New elemen']\n"
     ]
    }
   ],
   "source": [
    "# Menggunakan \"Append\"\n",
    "l = [1, 2.3, ['a', 'b'], 'New York']\n",
    "l.append('New elemen')\n",
    "print(l)"
   ]
  },
  {
   "cell_type": "code",
   "execution_count": 28,
   "id": "5b534963",
   "metadata": {},
   "outputs": [
    {
     "name": "stdout",
     "output_type": "stream",
     "text": [
      "[1, 2, 3, 'new elemen1', 'new elemen2', 'new elemen 3']\n"
     ]
    }
   ],
   "source": [
    "# Menggunakan \"Extend\"\n",
    "l = [1, 2, 3]\n",
    "l.extend(['new elemen1','new elemen2', 'new elemen 3'])\n",
    "print(l)\n"
   ]
  },
  {
   "cell_type": "code",
   "execution_count": 29,
   "id": "988ca04b",
   "metadata": {},
   "outputs": [
    {
     "name": "stdout",
     "output_type": "stream",
     "text": [
      "[11, 12, 21, 31, 42, 53, 64, 75, 90, 88, 87]\n"
     ]
    }
   ],
   "source": [
    "#slicing pada list\n",
    "lst = [11,12,21,31,42,53,64,75,90,88,87]\n",
    "print(lst)\n"
   ]
  },
  {
   "cell_type": "code",
   "execution_count": 30,
   "id": "e5b6849e",
   "metadata": {},
   "outputs": [
    {
     "name": "stdout",
     "output_type": "stream",
     "text": [
      "elements from index 4 to 7: [42, 53, 64]\n"
     ]
    }
   ],
   "source": [
    "# melakukan SLicing dengan urutan index 4 sampai ke 7\n",
    "print(\"elements from index 4 to 7:\", lst[4:7])"
   ]
  },
  {
   "cell_type": "code",
   "execution_count": 31,
   "id": "eb0d699e",
   "metadata": {},
   "outputs": [
    {
     "name": "stdout",
     "output_type": "stream",
     "text": [
      "alternate elements, starting at index 0: [11, 21, 42, 64, 90, 87]\n"
     ]
    }
   ],
   "source": [
    "# melakukan slicing dengan urutan index 2 loncatan urutan\n",
    "print(\"alternate elements, starting at index 0:\", lst[0::2])"
   ]
  },
  {
   "cell_type": "code",
   "execution_count": 32,
   "id": "039dda1e",
   "metadata": {},
   "outputs": [
    {
     "name": "stdout",
     "output_type": "stream",
     "text": [
      "every third element, starting at index 1: [12, 42, 75, 87]\n"
     ]
    }
   ],
   "source": [
    "# melakukan slicing dengan urutan index 3 loncatan urutan\n",
    "print(\"every third element, starting at index 1:\", lst[1::3])"
   ]
  },
  {
   "cell_type": "markdown",
   "id": "1566d70d",
   "metadata": {},
   "source": [
    "# Dictionaries"
   ]
  },
  {
   "cell_type": "code",
   "execution_count": 33,
   "id": "3778611b",
   "metadata": {},
   "outputs": [
    {
     "data": {
      "text/plain": [
       "'Dua'"
      ]
     },
     "execution_count": 33,
     "metadata": {},
     "output_type": "execute_result"
    }
   ],
   "source": [
    "# Membuat Dictionary dengan \"{}\" dan \":\" untuk menandakan sebuah key dan value \n",
    "my_dict = {'one':'Satu','two':'Dua'}\n",
    "\n",
    "# Memanggil dan menampilkan salah satu dictionary \n",
    "my_dict['two']\n",
    "\n"
   ]
  },
  {
   "cell_type": "code",
   "execution_count": 34,
   "id": "a9742b3d",
   "metadata": {},
   "outputs": [
    {
     "name": "stdout",
     "output_type": "stream",
     "text": [
      "{'one': 123, 'two': 'Dua'}\n"
     ]
    }
   ],
   "source": [
    "# Mengisi ulang serta memanggil salah satu dictionary\n",
    "my_dict[\"one\"]= 123\n",
    "print(my_dict)"
   ]
  },
  {
   "cell_type": "code",
   "execution_count": 35,
   "id": "b69b8e82",
   "metadata": {},
   "outputs": [
    {
     "name": "stdout",
     "output_type": "stream",
     "text": [
      "{'one': 0, 'two': 'Dua'}\n"
     ]
    }
   ],
   "source": [
    "# Mengubah langsung 123 pada nilai value \n",
    "my_dict['one'] = my_dict['one'] - 123\n",
    "print(my_dict)"
   ]
  },
  {
   "cell_type": "markdown",
   "id": "c0624eca",
   "metadata": {},
   "source": [
    "# Set and Booleans"
   ]
  },
  {
   "cell_type": "code",
   "execution_count": 36,
   "id": "6c2cbd13",
   "metadata": {},
   "outputs": [
    {
     "name": "stdout",
     "output_type": "stream",
     "text": [
      "{1}\n"
     ]
    }
   ],
   "source": [
    "x = set()\n",
    "# Kita menambahkan elemen pada () method\n",
    "x.add(1)\n",
    "# dan tampilkan\n",
    "print(x)"
   ]
  },
  {
   "cell_type": "code",
   "execution_count": 37,
   "id": "8669a8d8",
   "metadata": {},
   "outputs": [
    {
     "name": "stdout",
     "output_type": "stream",
     "text": [
      "{1, 2}\n"
     ]
    }
   ],
   "source": [
    "# Menambahkan element yang berbeda\n",
    "x.add(2)\n",
    "\n",
    "#tampilkan set \"x\"\n",
    "print(x)\n"
   ]
  },
  {
   "cell_type": "code",
   "execution_count": 38,
   "id": "cc3aa84e",
   "metadata": {},
   "outputs": [
    {
     "name": "stdout",
     "output_type": "stream",
     "text": [
      "{1, 2, 3, 4, 5, 6}\n"
     ]
    }
   ],
   "source": [
    "# Membuat list dengan elemen yang sama berulang\n",
    "l = [1,1,2,2,3,4,5,6,1,1]\n",
    "\n",
    "# Lalu memanggil set untuk menghilangkan elemen ang ter duplikasi\n",
    "print(set(l))\n"
   ]
  },
  {
   "cell_type": "markdown",
   "id": "dcd4b069",
   "metadata": {},
   "source": [
    "# Type Convertion - Primitive"
   ]
  },
  {
   "cell_type": "code",
   "execution_count": 39,
   "id": "799d09d9",
   "metadata": {},
   "outputs": [
    {
     "name": "stdout",
     "output_type": "stream",
     "text": [
      "10\n"
     ]
    }
   ],
   "source": [
    "x = 10 # variabel X memiliki elemen Integer\n",
    "y = str(x) # Variabel Y yaitu Variabel X yang elemen nya sudah diubah menjadi String\n",
    "print(y)"
   ]
  },
  {
   "cell_type": "markdown",
   "id": "77a6477e",
   "metadata": {},
   "source": [
    "# Type Convertion - Non Primitive"
   ]
  },
  {
   "cell_type": "code",
   "execution_count": 40,
   "id": "923ada8e",
   "metadata": {},
   "outputs": [
    {
     "data": {
      "text/plain": [
       "(['satu', 2, 'tiga', 4.4], list)"
      ]
     },
     "execution_count": 40,
     "metadata": {},
     "output_type": "execute_result"
    }
   ],
   "source": [
    "list1 = ['satu',2,'tiga',4.4]\n",
    "(list1, type(list1))"
   ]
  },
  {
   "cell_type": "code",
   "execution_count": 41,
   "id": "05513780",
   "metadata": {},
   "outputs": [
    {
     "name": "stdout",
     "output_type": "stream",
     "text": [
      "[10, 20, 32, 32, 14, 15, 15, 26, 28, 26, 31] <class 'list'>\n"
     ]
    }
   ],
   "source": [
    "list2 = [10,20,32,32,14,15,15,26,28,26,31]\n",
    "print (list2, type(list2))"
   ]
  },
  {
   "cell_type": "code",
   "execution_count": 42,
   "id": "7a8b8435",
   "metadata": {},
   "outputs": [
    {
     "name": "stdout",
     "output_type": "stream",
     "text": [
      "{32, 10, 14, 15, 20, 26, 28, 31} <class 'set'>\n"
     ]
    }
   ],
   "source": [
    "set_list2 = set(list2) # awalnya berupa \"list\" yang diubah menjadi \"set\"\n",
    "print (set_list2, type(set_list2))"
   ]
  },
  {
   "cell_type": "code",
   "execution_count": 43,
   "id": "50a13a64",
   "metadata": {},
   "outputs": [
    {
     "name": "stdout",
     "output_type": "stream",
     "text": [
      "(1, 'dua', 'tiga', 4, 5) <class 'tuple'>\n"
     ]
    }
   ],
   "source": [
    "tuple1 = (1,'dua','tiga',4,5)\n",
    "print(tuple1, type(tuple1))"
   ]
  },
  {
   "cell_type": "code",
   "execution_count": 44,
   "id": "243cd4ec",
   "metadata": {},
   "outputs": [
    {
     "name": "stdout",
     "output_type": "stream",
     "text": [
      "[1, 'dua', 'tiga', 4, 5] <class 'list'>\n"
     ]
    }
   ],
   "source": [
    "list_tuple1 = list(tuple1) # Awalnya berupa \"Tuple\" yang diubah menjadi sebuah \"list\"\n",
    "print (list_tuple1, type(list_tuple1))"
   ]
  },
  {
   "cell_type": "code",
   "execution_count": 45,
   "id": "0208906f",
   "metadata": {},
   "outputs": [
    {
     "name": "stdout",
     "output_type": "stream",
     "text": [
      "[['name', 'john'], ['age', 22], ['city', 'delhi']] <class 'list'>\n"
     ]
    }
   ],
   "source": [
    "x =[['name','john'], ['age',22], ['city','delhi']]\n",
    "print(x, type(x))"
   ]
  },
  {
   "cell_type": "code",
   "execution_count": 46,
   "id": "e344e646",
   "metadata": {},
   "outputs": [
    {
     "name": "stdout",
     "output_type": "stream",
     "text": [
      "{'name': 'john', 'age': 22, 'city': 'delhi'} <class 'dict'>\n"
     ]
    }
   ],
   "source": [
    "y = dict(x)\n",
    "print (y, type(y))"
   ]
  },
  {
   "cell_type": "code",
   "execution_count": null,
   "id": "ebbbd657",
   "metadata": {},
   "outputs": [],
   "source": []
  }
 ],
 "metadata": {
  "kernelspec": {
   "display_name": "Python 3 (ipykernel)",
   "language": "python",
   "name": "python3"
  },
  "language_info": {
   "codemirror_mode": {
    "name": "ipython",
    "version": 3
   },
   "file_extension": ".py",
   "mimetype": "text/x-python",
   "name": "python",
   "nbconvert_exporter": "python",
   "pygments_lexer": "ipython3",
   "version": "3.9.7"
  }
 },
 "nbformat": 4,
 "nbformat_minor": 5
}
