{
 "cells": [
  {
   "cell_type": "markdown",
   "id": "3c8a5d75",
   "metadata": {},
   "source": [
    "# Sesi FGD Senin Pagi 07-Maret-2022"
   ]
  },
  {
   "cell_type": "markdown",
   "id": "ee1faf10",
   "metadata": {},
   "source": [
    "## OOP ke 1 \"Persegi_Panjang\""
   ]
  },
  {
   "cell_type": "markdown",
   "id": "f7bfa05a",
   "metadata": {},
   "source": [
    "### Encapsulation"
   ]
  },
  {
   "cell_type": "code",
   "execution_count": null,
   "id": "284435b8",
   "metadata": {},
   "outputs": [],
   "source": [
    "def keliling_persegi_panjang(p, l):\n",
    "    print (\"keliling persegi panjang adalah :\",p*l)\n",
    "def luas_persegi_panjang(p, l):\n",
    "    print (\"luas persegi panjang adalah :\",p*l)\n",
    "def volume_persegi_panjang(p, l, t):\n",
    "    print (\"volume persegi panjang adalah :\",(p*l*t))    \n",
    "    \n",
    "keliling_persegi_panjang(int(input(\"Masukkan nilai panjang : \")),int(input(\"Masukkan nilai lebar : \")))\n",
    "luas_persegi_panjang(int(input(\"Masukkan nilai panjang : \")),int(input(\"Masukkan nilai lebar : \")))\n",
    "volume_persegi_panjang(int(input(\"Masukkan nilai panjang : \")), int(input(\"Masukkan nilai lebar : \")),int(input(\"Masukkan nilai tinggi : \")))"
   ]
  },
  {
   "cell_type": "code",
   "execution_count": null,
   "id": "4cd8ffe5",
   "metadata": {},
   "outputs": [],
   "source": [
    "class rumus_persegi_panjang ():\n",
    "    \n",
    "    def __init__(method, p,l):\n",
    "        method.panjang    = p\n",
    "        method.lebar      = l\n",
    "        \n",
    "    def luas_persegi_panjang(method):\n",
    "        print(\"luas persegi adalah :\", method.panjang*method.lebar)\n",
    "        \n",
    "class rumus_persegi ():\n",
    "    \n",
    "    def __init__(method, p, l, t):\n",
    "        method.panjang    = p\n",
    "        method.lebar      = l\n",
    "        method.tinggi     = t\n",
    "        \n",
    "    def volume_persegi(method):\n",
    "        print(\"volume persegi panjang adalah : \", method.panjang*method.lebar*method.tinggi)\n",
    "\n",
    "rumus1 = rumus_persegi(int(input(\"\\nMasukkan nilai panjang : \")),int(input(\"Masukkan nilai lebar : \")),int(input(\"Masukkan nilai tinggi : \")))\n",
    "rumus1.volume_persegi()\n",
    "\n",
    "rumus2 = rumus_persegi_panjang(int(input(\"\\nMasukkan nilai panjang : \")),int(input(\"Masukkan nilai lebar : \")))\n",
    "rumus2.luas_persegi_panjang()\n",
    "\n",
    "\n"
   ]
  },
  {
   "cell_type": "markdown",
   "id": "7fbb2698",
   "metadata": {},
   "source": [
    "### Polimorphism"
   ]
  },
  {
   "cell_type": "code",
   "execution_count": null,
   "id": "e8690110",
   "metadata": {},
   "outputs": [],
   "source": [
    "class persegi_panjang (object): \n",
    "    def __init__(method, p, l):\n",
    "        method.panjang = p\n",
    "        method.lebar = l\n",
    "        \n",
    "    def info(method):\n",
    "        print(\"Sebuah Persegi panjang memliki banyak rumus\")\n",
    "\n",
    "class keliling(persegi_panjang):\n",
    "    def __init__(method, p, l):\n",
    "        method.panjang = p\n",
    "        method.lebar = l\n",
    "        \n",
    "    def rumus(method):\n",
    "        print(\"Keliling persegi adalah :\", (2*method.panjang)+(2*method.lebar))\n",
    "\n",
    "class luas(persegi_panjang):\n",
    "    def __init__(method, p, l):\n",
    "        method.panjang = p\n",
    "        method.lebar = l\n",
    "        \n",
    "    def rumus(method):\n",
    "        print(\"luas persegi adalah :\", method.panjang*method.lebar)\n",
    "        \n",
    "k= keliling (int(input(\"Masukkan panjang : \")),int(input(\"Masukkan lebar : \")))\n",
    "k.rumus()\n",
    "l= luas (int(input(\"\\nMasukkan panjang : \")),int(input(\"Masukkan lebar : \")))\n",
    "l.rumus()"
   ]
  },
  {
   "cell_type": "markdown",
   "id": "98a24051",
   "metadata": {},
   "source": [
    "### Abstraction"
   ]
  },
  {
   "cell_type": "code",
   "execution_count": null,
   "id": "990dae4d",
   "metadata": {},
   "outputs": [],
   "source": [
    "from abc import ABC ,abstractmethod"
   ]
  },
  {
   "cell_type": "code",
   "execution_count": null,
   "id": "0a6a97f0",
   "metadata": {},
   "outputs": [],
   "source": [
    "class Bentuk(ABC):\n",
    "    @abstractmethod\n",
    "    def keliling(self):\n",
    "            return self.panjang*self.lebar\n",
    "    @abstractmethod\n",
    "    def luas(self):\n",
    "            return self.panjang*self.lebar\n",
    "    @abstractmethod\n",
    "    def volume(self):\n",
    "            return self.panjang*self.lebar*self.tinggi\n",
    "class persegi_panjang(Bentuk):\n",
    "    def __init__(self,panjang,lebar,tinggi):\n",
    "        self.panjang=panjang\n",
    "        self.lebar=lebar\n",
    "        self.tinggi=tinggi\n",
    "    def keliling(self):\n",
    "            print (\"\\nKeliling persegi panjang : \",self.panjang*self.lebar,\"\\n\")\n",
    "    def luas(self):\n",
    "            print (\"luas persegi panjang : \",self.panjang*self.lebar,\"\\n\")\n",
    "    def volume(self):\n",
    "            print (\"volume persegi panjang : \",self.panjang*self.lebar*self.tinggi,\"\\n\") \n",
    "        \n",
    "persegi_panjang1 = persegi_panjang (int(input(\"\\nMasukkan panjang : \")),int(input(\"Masukkan lebar : \")),int(input(\"Masukkan tinggi : \")))\n",
    "persegi_panjang1.keliling()\n",
    "persegi_panjang1.luas()\n",
    "persegi_panjang1.volume()"
   ]
  },
  {
   "cell_type": "markdown",
   "id": "86fdb042",
   "metadata": {},
   "source": [
    "### Inheritance"
   ]
  },
  {
   "cell_type": "code",
   "execution_count": 8,
   "id": "16e0d560",
   "metadata": {},
   "outputs": [
    {
     "name": "stdout",
     "output_type": "stream",
     "text": [
      "Masukkan panjang : 4\n",
      "Masukkan lebar : 5\n",
      "Keliling persegi panjang adalah : 18\n",
      "\n",
      "Masukkan panjang : 4\n",
      "Masukkan lebar : 5\n",
      "luas persegi panjang adalah : 20\n",
      "\n",
      "Masukkan panjang : 6\n",
      "Masukkan lebar : 7\n",
      "Masukkan tinggi : 5\n",
      "volume persegi panjang adalah : 210\n"
     ]
    }
   ],
   "source": [
    "class persegi_panjang (object): \n",
    "    def __init__(method, p, l):\n",
    "        method.panjang = p\n",
    "        method.lebar = l\n",
    "        \n",
    "    def info(method):\n",
    "        print(\"Sebuah Persegi panjang memliki banyak rumus\")\n",
    "\n",
    "class keliling(persegi_panjang):\n",
    "    def __init__(method, p, l):\n",
    "        method.panjang = p\n",
    "        method.lebar = l\n",
    "        \n",
    "    def rumus(method):\n",
    "        print(\"Keliling persegi panjang adalah :\", (2*method.panjang)+(2*method.lebar))\n",
    "\n",
    "class luas(persegi_panjang):\n",
    "    def __init__(method, p, l):\n",
    "        super().__init__(p,l)\n",
    "        \n",
    "    def rumus(method):\n",
    "        print(\"luas persegi panjang adalah :\", method.panjang*method.lebar)\n",
    "        \n",
    "class volume(persegi_panjang):\n",
    "    def __init__(method,p,l,t):\n",
    "        super().__init__(p,l)\n",
    "        method.tinggi = t\n",
    "        \n",
    "    def rumus(method):\n",
    "         print(\"volume persegi panjang adalah :\", method.panjang*method.lebar*method.tinggi)\n",
    "        \n",
    "k= keliling (int(input(\"Masukkan panjang : \")),int(input(\"Masukkan lebar : \")))\n",
    "k.rumus()\n",
    "l= luas (int(input(\"\\nMasukkan panjang : \")),int(input(\"Masukkan lebar : \")))\n",
    "l.rumus()\n",
    "v= volume (int(input(\"\\nMasukkan panjang : \")),int(input(\"Masukkan lebar : \")),int(input(\"Masukkan tinggi : \")))\n",
    "v.rumus()"
   ]
  },
  {
   "cell_type": "markdown",
   "id": "1d4cfcf0",
   "metadata": {},
   "source": [
    "## OOP ke 2 \"Enemy in game Stats\""
   ]
  },
  {
   "cell_type": "markdown",
   "id": "3c8cff73",
   "metadata": {},
   "source": [
    "### Inheritance"
   ]
  },
  {
   "cell_type": "code",
   "execution_count": null,
   "id": "86abf312",
   "metadata": {},
   "outputs": [],
   "source": [
    "class enemy (object):\n",
    "        \n",
    "    def __init__(self, name, level, health, damage ):\n",
    "        self.name = name\n",
    "        self.level = level\n",
    "        self.health = health\n",
    "        self.damage = damage\n",
    "        \n",
    "        \n",
    "    def status(self):\n",
    "        print(f\"\"\"        enemy stats \n",
    "        name    : {self.name}\n",
    "        level   : {self.level}\n",
    "        health  : {self.health}\n",
    "        damage  : {self.damage}\n",
    "        \"\"\")\n",
    "\n",
    "class semiboss(enemy):\n",
    "    \n",
    "    def __init__(self, name, level, health, damage, passive):\n",
    "        super().__init__(name, level, health, damage)   \n",
    "        self.passive = passive\n",
    "            \n",
    "    def status(self):\n",
    "        print(f\"\"\"       Semi-Boss Stats \n",
    "        name    : {self.name}\n",
    "        level   : {self.level}\n",
    "        health  : {self.health}\n",
    "        damage  : {self.damage}\n",
    "        passive : {self.passive}\n",
    "        \"\"\")\n",
    "        \n",
    "class boss(enemy):\n",
    "    \n",
    "    def __init__(self, name, level, health, damage, passive, ultimate):\n",
    "        super().__init__(name, level, health, damage)   \n",
    "        self.passive = passive\n",
    "        self.ultimate = ultimate\n",
    "            \n",
    "    def status(self):\n",
    "        print(f\"\"\"       Boss Stats \n",
    "        name    : {self.name}\n",
    "        level   : {self.level}\n",
    "        health  : {self.health}\n",
    "        damage  : {self.damage}\n",
    "        passive : {self.passive}\n",
    "        ultimate: {self.ultimate}\n",
    "        \"\"\")            \n",
    "enemy1 = enemy (\"hilichurl\",12,1500,130)\n",
    "enemy1.status()\n",
    "sb1 = semiboss(\"fire witch\",35,7850,3235,\"can't be atack with fire\")\n",
    "sb1.status()\n",
    "b1 = boss(\"demon king\",75,19250,6255,\"only can be hurt by light elemen\", \"enchant hellblaze\")\n",
    "b1.status()"
   ]
  },
  {
   "cell_type": "markdown",
   "id": "2072327e",
   "metadata": {},
   "source": [
    "## OOP ke 3 \"Kendaraan\""
   ]
  },
  {
   "cell_type": "code",
   "execution_count": null,
   "id": "879b2f83",
   "metadata": {},
   "outputs": [],
   "source": []
  },
  {
   "cell_type": "code",
   "execution_count": null,
   "id": "4d477177",
   "metadata": {},
   "outputs": [],
   "source": [
    "class Kendaraan (object): \n",
    "    def __init__(method, nama, tipe ):\n",
    "        method.nama  = nama \n",
    "        method.tipe = tipe\n",
    "        \n",
    "    def info(method):\n",
    "        pass\n",
    "\n",
    "class Mobil(Kendaraan):\n",
    "    def __init__(method, nama, tipe):\n",
    "        method.nama  = nama\n",
    "        method.tipe  = tipe\n",
    "        \n",
    "    def info(method):\n",
    "        print(f\"\"\"Info Kendaraan\n",
    "              Nama Mobil  : {method.nama}\n",
    "              Jenis Mobil : {method.tipe}\n",
    "              \"\"\")\n",
    "\n",
    "class Pesawat(Kendaraan):\n",
    "    def __init__(method, nama, tipe):\n",
    "        method.nama  = nama\n",
    "        method.jenis = tipe\n",
    "        \n",
    "    def rumus(method):\n",
    "        print(f\"\"\"Info Kendaraan\n",
    "              Nama Pesawat  : {method.nama}\n",
    "              Jenis Pesawat : {method.tipe}\n",
    "              \"\"\")\n",
    "        \n",
    "m = Mobil((input(\"Nama Mobil : \")),(input(\"Nama Tipe: \")))\n",
    "m.info()\n",
    "p= Pesawat((input(\"Nama Pesawat : \")),(input(\"Nama Tipe: \")))\n",
    "p.info()"
   ]
  },
  {
   "cell_type": "markdown",
   "id": "e2738272",
   "metadata": {},
   "source": [
    "## Python Modules"
   ]
  },
  {
   "cell_type": "markdown",
   "id": "f6acb74b",
   "metadata": {},
   "source": [
    "### OOP ke 1 "
   ]
  },
  {
   "cell_type": "code",
   "execution_count": 19,
   "id": "28f8c373",
   "metadata": {},
   "outputs": [],
   "source": [
    "import Rumus_Persegi_Panjang as rp"
   ]
  },
  {
   "cell_type": "code",
   "execution_count": 18,
   "id": "ac76a5f0",
   "metadata": {},
   "outputs": [
    {
     "name": "stdout",
     "output_type": "stream",
     "text": [
      "Keliling persegi panjang adalah :  18\n"
     ]
    }
   ],
   "source": [
    "persegi_panjang1 = rp.keliling(4,5)"
   ]
  },
  {
   "cell_type": "code",
   "execution_count": 6,
   "id": "ed287afb",
   "metadata": {},
   "outputs": [
    {
     "name": "stdout",
     "output_type": "stream",
     "text": [
      "luas persegi panjang adalah :  20\n"
     ]
    }
   ],
   "source": [
    "persegi_panjang2 = rp.luas(4,5)"
   ]
  },
  {
   "cell_type": "code",
   "execution_count": null,
   "id": "205dd4db",
   "metadata": {},
   "outputs": [],
   "source": []
  }
 ],
 "metadata": {
  "kernelspec": {
   "display_name": "Python 3 (ipykernel)",
   "language": "python",
   "name": "python3"
  },
  "language_info": {
   "codemirror_mode": {
    "name": "ipython",
    "version": 3
   },
   "file_extension": ".py",
   "mimetype": "text/x-python",
   "name": "python",
   "nbconvert_exporter": "python",
   "pygments_lexer": "ipython3",
   "version": "3.9.7"
  }
 },
 "nbformat": 4,
 "nbformat_minor": 5
}
