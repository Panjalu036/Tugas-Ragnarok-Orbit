{
 "cells": [
  {
   "cell_type": "markdown",
   "id": "88ef6387",
   "metadata": {},
   "source": [
    "# FGD Selasa Pagi "
   ]
  },
  {
   "cell_type": "markdown",
   "id": "40b5f165",
   "metadata": {},
   "source": [
    "## 08-Maret-2022"
   ]
  },
  {
   "cell_type": "markdown",
   "id": "437205ac",
   "metadata": {},
   "source": [
    "### Latihan-4 (Operasi matriks)"
   ]
  },
  {
   "cell_type": "code",
   "execution_count": null,
   "id": "8f13a29c",
   "metadata": {},
   "outputs": [],
   "source": [
    "A = np.array([[1, 2], [7,8]])\n",
    "B = np.array([[3, 5], [1,6]])"
   ]
  },
  {
   "cell_type": "markdown",
   "id": "63b29ec2",
   "metadata": {},
   "source": [
    "Hitunglah:\n",
    "*   2*A\n",
    "*   2+A\n",
    "*   A+B\n",
    "*   A-B\n",
    "*   determinan A\n",
    "*   invers dari B, simpan jadi matriks D\n",
    "*   transpose D\n",
    "*   nilai eigen dan vektor eigen dari A dan B\n",
    "\n",
    "\n",
    "\n",
    "\n",
    "\n"
   ]
  },
  {
   "cell_type": "code",
   "execution_count": 10,
   "id": "e0e6c3cd",
   "metadata": {},
   "outputs": [
    {
     "name": "stdout",
     "output_type": "stream",
     "text": [
      "Matriks A*2\n",
      "[[ 2  4]\n",
      " [14 16]]\n",
      "\n",
      "Matriks A+2\n",
      "[[ 3  4]\n",
      " [ 9 10]]\n",
      "\n",
      "Matriks A+B\n",
      "[[ 4  7]\n",
      " [ 8 14]]\n",
      "\n",
      "Matriks A-B\n",
      "[[-2 -3]\n",
      " [ 6  2]]\n",
      "\n",
      "Determinan Matriks A\n",
      "-6.0\n",
      "\n",
      "Invers Matriks B = D\n",
      "[[ 0.46153846 -0.38461538]\n",
      " [-0.07692308  0.23076923]]\n",
      "\n",
      "Transpose D\n",
      "[[ 0.46153846 -0.07692308]\n",
      " [-0.38461538  0.23076923]]\n",
      "\n",
      "Nilai eigen dan vekktor Eigen A dan B\n",
      "\n",
      "Nilai eigen A\n",
      "[-0.62347538  9.62347538]\n",
      "\n",
      "Nilai eigen vektor A\n",
      "[[-0.77640358 -0.22592838]\n",
      " [ 0.63023605 -0.97414391]]\n",
      "\n",
      "Nilai eigen B\n",
      "[1.8074176 7.1925824]\n",
      "\n",
      "Nilai eigen vektor B\n",
      "[[-0.97271381 -0.76626443]\n",
      " [ 0.23200828 -0.64252535]]\n"
     ]
    }
   ],
   "source": [
    "import numpy as np\n",
    "\n",
    "A = np.array([[1, 2], [7,8]])\n",
    "B = np.array([[3, 5], [1,6]])\n",
    "D = np.linalg.inv(B)\n",
    "\n",
    "eigen_A,eigen_vector_A=(np.linalg.eig(A))\n",
    "eigen_B,eigen_vector_B=(np.linalg.eig(B))\n",
    "\n",
    "print(\"Matriks A*2\")\n",
    "print(2*A)\n",
    "print(\"\\nMatriks A+2\")\n",
    "print(2+A)\n",
    "print(\"\\nMatriks A+B\")\n",
    "print(A+B)\n",
    "print(\"\\nMatriks A-B\")\n",
    "print(A-B)\n",
    "print(\"\\nDeterminan Matriks A\")\n",
    "print(np.linalg.det(A))\n",
    "print(\"\\nInvers Matriks B = D\")\n",
    "print(np.linalg.inv(B))\n",
    "print(\"\\nTranspose D\")\n",
    "print(np.transpose(D))\n",
    "\n",
    "print(\"\\nNilai eigen dan vekktor Eigen A dan B\")\n",
    "print(\"\\nNilai eigen A\")\n",
    "print(eigen_A)\n",
    "print(\"\\nNilai eigen vektor A\")\n",
    "print(eigen_vector_A)\n",
    "print(\"\\nNilai eigen B\")\n",
    "print(eigen_B)\n",
    "print(\"\\nNilai eigen vektor B\")\n",
    "print(eigen_vector_B)"
   ]
  },
  {
   "cell_type": "markdown",
   "id": "c7c04987",
   "metadata": {},
   "source": [
    "Apa perbedaan dari B*D (perkalian antar entry di B dan D) dan BD (perkalian matriks B dan D)? "
   ]
  },
  {
   "cell_type": "code",
   "execution_count": 35,
   "id": "71778ae8",
   "metadata": {},
   "outputs": [
    {
     "name": "stdout",
     "output_type": "stream",
     "text": [
      "Perkalian Entry B*D = \n",
      "[[ 1.38461538 -1.92307692]\n",
      " [-0.07692308  1.38461538]]\n",
      "\n",
      "Perkalian Matriks BD = \n",
      "[[ 1.00000000e+00  0.00000000e+00]\n",
      " [-5.55111512e-17  1.00000000e+00]]\n"
     ]
    }
   ],
   "source": [
    "print(\"Perkalian Entry B*D = \")\n",
    "print(B*D)\n",
    "print(\"\")\n",
    "print(\"Perkalian Matriks BD = \")\n",
    "print(np.matmul(B,D))\n",
    "      \n"
   ]
  },
  {
   "cell_type": "markdown",
   "id": "c4382bc2",
   "metadata": {},
   "source": [
    "output jawaban: \n",
    "\n",
    "perkalian entry = [[ 1.38461538, -1.92307692], [-0.07692308,  1.38461538]]\n",
    "\n",
    "perkalian matriks = [[ 1.00000000e+00, -1.11022302e-16],\n",
    "       [ 1.11022302e-16,  1.00000000e+00]]\n"
   ]
  }
 ],
 "metadata": {
  "kernelspec": {
   "display_name": "Python 3 (ipykernel)",
   "language": "python",
   "name": "python3"
  },
  "language_info": {
   "codemirror_mode": {
    "name": "ipython",
    "version": 3
   },
   "file_extension": ".py",
   "mimetype": "text/x-python",
   "name": "python",
   "nbconvert_exporter": "python",
   "pygments_lexer": "ipython3",
   "version": "3.9.7"
  }
 },
 "nbformat": 4,
 "nbformat_minor": 5
}
