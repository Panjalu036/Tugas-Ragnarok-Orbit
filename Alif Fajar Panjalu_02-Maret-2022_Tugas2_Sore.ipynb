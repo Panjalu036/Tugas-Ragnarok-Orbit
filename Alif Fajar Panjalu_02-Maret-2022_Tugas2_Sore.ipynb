{
 "cells": [
  {
   "cell_type": "markdown",
   "id": "04caa74a",
   "metadata": {},
   "source": [
    "## FGD Rabu Sesi Sore"
   ]
  },
  {
   "cell_type": "markdown",
   "id": "6a7477ef",
   "metadata": {},
   "source": [
    "## 02 - Maret - 2022"
   ]
  },
  {
   "cell_type": "markdown",
   "id": "1aa84fec",
   "metadata": {},
   "source": [
    "###  No.1\n",
    "Tulislah sebuah metode habis dibagi yang membutuhkan dua bilangan bulat, m dan n. Metode mengembalikan True jika\n",
    "m habis dibagi n, dan sebaliknya mengembalikan False.\n",
    "\n",
    "Jika, m = 2 dan n = 3, 2 tidak bisa dibagi 3. Berarti fungsi akan mereturn nilai False.\n",
    "Jika, m = 4 dan n = 2, 4 bisa dibagi 2. Berarti fungsi akan mereturn nilai True.\n"
   ]
  },
  {
   "cell_type": "code",
   "execution_count": 1,
   "id": "d4f3b4ae",
   "metadata": {},
   "outputs": [
    {
     "name": "stdout",
     "output_type": "stream",
     "text": [
      "\n",
      "Bilangan yang habis di bagi 2\n",
      "\n",
      "True\n",
      "False\n",
      "True\n",
      "False\n",
      "True\n",
      "\n",
      "Bilangan yang habis di bagi 3\n",
      "\n",
      "False\n",
      "True\n",
      "False\n",
      "False\n",
      "True\n"
     ]
    }
   ],
   "source": [
    "def mod2 (m):\n",
    "    if m%2==0 :\n",
    "        return True\n",
    "    else:\n",
    "        return False\n",
    "    \n",
    "def mod3 (n):\n",
    "    if n%3==0 :\n",
    "        return True\n",
    "    else:\n",
    "        return False \n",
    "\n",
    "m = [2,3,4,5,6]\n",
    "n = [2,3,4,5,6]\n",
    "\n",
    "bilangan_m = map(mod2,m)\n",
    "bilangan_n = map(mod3,m)\n",
    "\n",
    "print(\"\\nBilangan yang habis di bagi 2\\n\")\n",
    "for i in bilangan_m:\n",
    "    print (i)\n",
    "\n",
    "print(\"\\nBilangan yang habis di bagi 3\\n\")\n",
    "for i in bilangan_n:\n",
    "    print (i)"
   ]
  },
  {
   "cell_type": "markdown",
   "id": "0707ffa3",
   "metadata": {},
   "source": [
    "### No. 2\n",
    "Tulis fungsi yang pertama kali menampilkan menu kafe sederhana (lihat contoh di bawah), meminta pengguna untuk masuk\n",
    "jumlah pilihan, dan mencetak tindakan yang sesuai ATAU mencetak pesan kesalahan yang\n",
    "pilihan mereka tidak valid.\n",
    "Contoh keluaran:\n",
    "()\n",
    "1. Sup dan salad\n",
    "2. Pasta dengan saus daging\n",
    "3. Masakan spesial koki\n",
    "Mau pesan nomor berapa? 2\n",
    ">Satu Pasta dengan saus daging akan segera hadir!\n",
    "\n",
    "Contoh keluaran lainnya:\n",
    "menu()\n",
    "1. Sup dan salad\n",
    "2. Pasta dengan saus daging\n",
    "3. Masakan spesial koki\n",
    "Mau pesan nomor berapa? 5\n",
    ">Maaf, itu bukan pilihan yang valid."
   ]
  },
  {
   "cell_type": "code",
   "execution_count": null,
   "id": "6131217c",
   "metadata": {},
   "outputs": [],
   "source": [
    "pengulangan = 'ya'\n",
    "while pengulangan == 'ya':\n",
    "    print ('''\n",
    "        Menu Makanan\n",
    "        \n",
    "        1. Sup dan Salad\n",
    "        2. Pasta dengan saus daging\n",
    "        3. Masakan Special Chef \n",
    "        \n",
    "    ''')\n",
    "    pesanan = input(\"Masukkan nomor menu pesanan : \")\n",
    "    if pesanan =='1':\n",
    "        menu = 'sup dan salad\\n'\n",
    "        jumlah = int(input(\"Tentukan jumlah menu yang akan di pesan : \"))\n",
    "        print(jumlah,menu,\"akan segera hadir\\n\")\n",
    "    elif pesanan =='2':\n",
    "        menu = 'Pasta dengan saus daging'\n",
    "        jumlah = int(input(\"Tentukan jumlah menu yang akan di pesan :\"))\n",
    "        print(jumlah,menu,\"akan segera hadir\\n\")\n",
    "    elif pesanan =='3':\n",
    "        menu = 'Menu spesial Chef'\n",
    "        jumlah = int(input(\"Tentukan jumlah menu yang akan di pesan :\"))\n",
    "        print(jumlah,menu,\"akan segera hadir\\n\")\n",
    "    else :\n",
    "        print(\"maaf, itu bukan pilihan yang valid\\n \")\n",
    "        pengulangan = input (\"apakah anda ingin mengulanginya lagi ? \")\n",
    "        \n",
    "    pengulangan = input(\"Apakah anda akan memesan yang lain ? \")\n",
    "else:\n",
    "    print (\"Terima kasih sudah memesan\")    \n",
    "        "
   ]
  },
  {
   "cell_type": "markdown",
   "id": "156c6ae5",
   "metadata": {},
   "source": [
    "###  No. 3\n",
    "Tulis metode Rand_divis_3 yang tidak mengambil parameter dan mengembalikan True jika suatu bilangan habis dibagi 3, dan False sebaliknya."
   ]
  },
  {
   "cell_type": "code",
   "execution_count": null,
   "id": "96d07ff6",
   "metadata": {},
   "outputs": [],
   "source": [
    "def Rand_Divis_3 (m):\n",
    "    if m%3 == 0:\n",
    "        return True\n",
    "    else :\n",
    "        return False\n",
    "\n",
    "print(Rand_Divis_3(3))\n",
    "print(Rand_Divis_3(4))\n",
    "print(Rand_Divis_3(5))\n",
    "print(Rand_Divis_3(6))"
   ]
  },
  {
   "cell_type": "markdown",
   "id": "1ea480f4",
   "metadata": {},
   "source": [
    "### No. 4\n",
    "Bayangkan Python tidak memiliki operator != bawaan. Tulis metode yang tidak sama yang menggunakan dua parameter dan memberikan hasil yang sama dengan operator !=. Jelas, Anda tidak dapat menggunakan != dalam fungsi Anda! Uji apakah kode Anda berfungsi dengan memikirkan contoh dan memastikan hasilnya sama untuk metode baru Anda seperti yang diberikan != kepada Anda."
   ]
  },
  {
   "cell_type": "code",
   "execution_count": null,
   "id": "c875d989",
   "metadata": {},
   "outputs": [],
   "source": [
    "def persamaan (m,n):\n",
    "    if m == n:\n",
    "        print('Hasilnya memang sama') \n",
    "    else :\n",
    "        print('Hasilnya tidak sama')\n",
    "\n",
    "m = input(\"nilai m : \")\n",
    "n = input(\"nilai n : \")\n",
    "\n",
    "persamaan (m,n)"
   ]
  },
  {
   "cell_type": "markdown",
   "id": "f187f106",
   "metadata": {},
   "source": [
    "###  No. 5\n"
   ]
  },
  {
   "cell_type": "code",
   "execution_count": null,
   "id": "c0ca33e9",
   "metadata": {},
   "outputs": [],
   "source": [
    "def ask_name(name):\n",
    "    name= input(\"Enter your name : \" + name)\n",
    "\n",
    "    ask_name(\"\")\n",
    "    \n"
   ]
  },
  {
   "cell_type": "code",
   "execution_count": null,
   "id": "58a52a9a",
   "metadata": {},
   "outputs": [],
   "source": []
  },
  {
   "cell_type": "code",
   "execution_count": null,
   "id": "94e3ef04",
   "metadata": {},
   "outputs": [],
   "source": []
  }
 ],
 "metadata": {
  "kernelspec": {
   "display_name": "Python 3 (ipykernel)",
   "language": "python",
   "name": "python3"
  },
  "language_info": {
   "codemirror_mode": {
    "name": "ipython",
    "version": 3
   },
   "file_extension": ".py",
   "mimetype": "text/x-python",
   "name": "python",
   "nbconvert_exporter": "python",
   "pygments_lexer": "ipython3",
   "version": "3.9.7"
  }
 },
 "nbformat": 4,
 "nbformat_minor": 5
}
